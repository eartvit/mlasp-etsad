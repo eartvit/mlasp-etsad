{
 "cells": [
  {
   "cell_type": "code",
   "execution_count": null,
   "id": "9f305aac-9743-471c-a5c8-18ae5c28632b",
   "metadata": {
    "editable": true,
    "slideshow": {
     "slide_type": ""
    },
    "tags": []
   },
   "outputs": [],
   "source": [
    "from influxdb import InfluxDBClient\n",
    "import pandas as pd\n",
    "from influxdb import DataFrameClient\n",
    "import pytz, datetime, time\n",
    "from datetime import timedelta, datetime"
   ]
  },
  {
   "cell_type": "code",
   "execution_count": null,
   "id": "e884710f-2e41-495f-b48b-7732936f3015",
   "metadata": {},
   "outputs": [],
   "source": [
    "from tqdm import tqdm"
   ]
  },
  {
   "cell_type": "code",
   "execution_count": null,
   "id": "a5201422-7e07-451c-ad8d-6e0714afb059",
   "metadata": {},
   "outputs": [],
   "source": [
    "influxClient = DataFrameClient(host='influxdb.demo.svc.cluster.local', port=8086, #username='root', password='root', \n",
    "                           ssl=False, verify_ssl=False, database='loadtesting')"
   ]
  },
  {
   "cell_type": "code",
   "execution_count": null,
   "id": "191e6489-66af-44b3-bc8a-1c25e1e7e939",
   "metadata": {},
   "outputs": [],
   "source": [
    "influxLTClientResultSet = influxClient.query(\"select * from lt_result\")"
   ]
  },
  {
   "cell_type": "code",
   "execution_count": null,
   "id": "916054bd-9764-4935-b262-d7805f202944",
   "metadata": {},
   "outputs": [],
   "source": [
    "influxLT_df = influxLTClientResultSet['lt_result']"
   ]
  },
  {
   "cell_type": "code",
   "execution_count": null,
   "id": "d19452d5-59a1-487d-83c6-b3e9c20426a0",
   "metadata": {},
   "outputs": [],
   "source": [
    "pd.set_option('display.max_rows', 5000)\n",
    "pd.pandas.set_option('display.max_columns', None)"
   ]
  },
  {
   "cell_type": "code",
   "execution_count": null,
   "id": "b70465f9-8181-4321-ad79-5c72c709885b",
   "metadata": {},
   "outputs": [],
   "source": [
    "import pytz\n",
    "local_tz = pytz.timezone('America/Toronto') # Set local timezone for InfluxDB based times calculations\n",
    "today=datetime.today().strftime('%Y-%m-%d')"
   ]
  },
  {
   "cell_type": "code",
   "execution_count": null,
   "id": "257a83a3-200e-43e3-99d1-9bc672d86038",
   "metadata": {
    "editable": true,
    "slideshow": {
     "slide_type": ""
    },
    "tags": []
   },
   "outputs": [],
   "source": [
    "influxLT_df.head(10)"
   ]
  },
  {
   "cell_type": "code",
   "execution_count": null,
   "id": "c79f2c9b-59b3-4f6c-a570-42eae120a867",
   "metadata": {},
   "outputs": [],
   "source": [
    "influxLT_df.index.dtype"
   ]
  },
  {
   "cell_type": "code",
   "execution_count": null,
   "id": "611d5497-6b24-4829-a992-5c67be4e3bfc",
   "metadata": {},
   "outputs": [],
   "source": [
    "influxLT_df.shape"
   ]
  },
  {
   "cell_type": "code",
   "execution_count": null,
   "id": "6abbf9b9-af72-45d5-b7e8-9f246965ec76",
   "metadata": {},
   "outputs": [],
   "source": [
    "influxLT_df.index.name = 'RecordDateTime'"
   ]
  },
  {
   "cell_type": "code",
   "execution_count": null,
   "id": "0370ec10-9f83-4c5e-b551-41fc59f12312",
   "metadata": {},
   "outputs": [],
   "source": [
    "influxLT_df.to_csv('lt_data_influx_2024-01-15.csv',header=True,)"
   ]
  },
  {
   "cell_type": "code",
   "execution_count": null,
   "id": "542a90a1-48ce-4a0d-9e84-4424f352fda5",
   "metadata": {
    "editable": true,
    "slideshow": {
     "slide_type": ""
    },
    "tags": []
   },
   "outputs": [],
   "source": [
    "influxLT_df[influxLT_df.index >'2023-09-13 00:00:00' ].shape"
   ]
  },
  {
   "cell_type": "code",
   "execution_count": null,
   "id": "59af30ad-d869-44e9-b800-5b9e51c52071",
   "metadata": {},
   "outputs": [],
   "source": [
    "i = influxLT_df.index[5]\n",
    "influxLT_df.loc[i].to_json(\"row{}.json\".format(i))"
   ]
  },
  {
   "cell_type": "code",
   "execution_count": null,
   "id": "9f5d5a68-334e-46b3-a9b2-72547c6d7e83",
   "metadata": {},
   "outputs": [],
   "source": [
    "record_as_dict = influxLT_df.iloc[6].to_dict()"
   ]
  },
  {
   "cell_type": "code",
   "execution_count": null,
   "id": "da6023d1-4f0b-4615-bcf7-338a7bd886d2",
   "metadata": {},
   "outputs": [],
   "source": [
    "import json\n",
    "with open('result-long-lt.json', 'w') as fp:\n",
    "    json.dump(record_as_dict, fp)"
   ]
  },
  {
   "cell_type": "code",
   "execution_count": null,
   "id": "d8c4ee29-afef-40b2-ad54-f44a166bd3ba",
   "metadata": {
    "editable": true,
    "slideshow": {
     "slide_type": ""
    },
    "tags": []
   },
   "outputs": [],
   "source": [
    "influxLT_df_with_spikes = influxLT_df[influxLT_df.index >'2023-09-12 00:00:00' ]"
   ]
  },
  {
   "cell_type": "code",
   "execution_count": null,
   "id": "faecdad4-2224-48ca-b31a-455db25b9d48",
   "metadata": {},
   "outputs": [],
   "source": [
    "influxLT_df_no_spikes = influxLT_df[influxLT_df.index <'2023-09-12 00:00:00']"
   ]
  },
  {
   "cell_type": "code",
   "execution_count": null,
   "id": "06b53abd-168d-40c1-bd81-b586b42e1912",
   "metadata": {},
   "outputs": [],
   "source": [
    "influxLT_df_no_spikes.shape"
   ]
  },
  {
   "cell_type": "code",
   "execution_count": null,
   "id": "5aa5c89a-641c-444a-a9da-5997c6ceefd9",
   "metadata": {},
   "outputs": [],
   "source": [
    "# influxLT_df_no_spikes has prometheus data only with wiremock\n",
    "# influxLT_df_with_spikes has prometheus data with wiremock and load-generator"
   ]
  },
  {
   "cell_type": "code",
   "execution_count": null,
   "id": "34554d1d-f65c-4696-b18a-59b77254bbd4",
   "metadata": {},
   "outputs": [],
   "source": [
    "from prometheus_api_client import PrometheusConnect, MetricSnapshotDataFrame, MetricRangeDataFrame, MetricsList, Metric\n",
    "from prometheus_api_client.utils import parse_datetime"
   ]
  },
  {
   "cell_type": "code",
   "execution_count": null,
   "id": "a8c0fafe-90a2-4b17-82c3-042f470b69ee",
   "metadata": {},
   "outputs": [],
   "source": [
    "prom = PrometheusConnect(url=\"http://prometheus-operated.demo.svc.cluster.local:9090\",\n",
    "                         disable_ssl=True)"
   ]
  },
  {
   "cell_type": "code",
   "execution_count": null,
   "id": "0c0ab274-fe42-4878-a70a-de9276cf52ad",
   "metadata": {
    "editable": true,
    "slideshow": {
     "slide_type": ""
    },
    "tags": []
   },
   "outputs": [],
   "source": [
    "q_lg_msg_w_spike_10s_rate = 'rate(load_generator_total_msg[10s]) + rate(load_generator_spike_cycle_total_msg[10s])'"
   ]
  },
  {
   "cell_type": "code",
   "execution_count": null,
   "id": "803aefcb-9c7a-4587-bc9b-d73da28e83e3",
   "metadata": {
    "editable": true,
    "slideshow": {
     "slide_type": ""
    },
    "tags": []
   },
   "outputs": [],
   "source": [
    "q_lg_msg_10s_rate = 'rate(load_generator_total_msg[10s])'"
   ]
  },
  {
   "cell_type": "code",
   "execution_count": null,
   "id": "d48f412e-f9ac-4fd1-af24-760cd3ddcf9d",
   "metadata": {
    "editable": true,
    "slideshow": {
     "slide_type": ""
    },
    "tags": []
   },
   "outputs": [],
   "source": [
    "q_lg_spike_msg_10s_rate = 'rate(load_generator_spike_cycle_total_msg[10s])'"
   ]
  },
  {
   "cell_type": "code",
   "execution_count": null,
   "id": "3bff22d1-1df0-44aa-8fb7-fb472ca77571",
   "metadata": {
    "editable": true,
    "slideshow": {
     "slide_type": ""
    },
    "tags": []
   },
   "outputs": [],
   "source": [
    "q_lg_avg_latency = 'load_generator_avg_latency_ms'"
   ]
  },
  {
   "cell_type": "code",
   "execution_count": null,
   "id": "18420bbf-c3a4-48fb-95ae-6fabb19dff6c",
   "metadata": {
    "editable": true,
    "slideshow": {
     "slide_type": ""
    },
    "tags": []
   },
   "outputs": [],
   "source": [
    "q_lg_avg_latecy_10s_rate = 'rate(load_generator_avg_latency_ms[10s])'"
   ]
  },
  {
   "cell_type": "code",
   "execution_count": null,
   "id": "a4c837ba-8c43-4410-9c45-197b8d7ac166",
   "metadata": {
    "editable": true,
    "slideshow": {
     "slide_type": ""
    },
    "tags": []
   },
   "outputs": [],
   "source": [
    "def convert_prometheus_to_df(prom_metric_data):\n",
    "    df_values = pd.DataFrame(prom_metric_data[0]['values'], columns=['epoch','value'])\n",
    "    df_values['EventDateTime'] = df_values['epoch'].apply(datetime.fromtimestamp)\n",
    "    df_values.set_index('EventDateTime', inplace=True)\n",
    "    df_values[\"value\"] = df_values[\"value\"].apply(lambda x: format(float(x),\".2f\"))\n",
    "    \n",
    "    return df_values\n",
    "    "
   ]
  },
  {
   "cell_type": "code",
   "execution_count": null,
   "id": "1e28e4b0-a90e-471c-a42a-113f04cf4136",
   "metadata": {
    "editable": true,
    "slideshow": {
     "slide_type": ""
    },
    "tags": []
   },
   "outputs": [],
   "source": [
    "def extract_prometheus_data(influxDF, query,fileName, step=\"10s\"):\n",
    "    for i in tqdm(range(influxDF.shape[0])):\n",
    "        ltStartTS = round(influxDF.iloc[i]['ltStartTS'])\n",
    "        ltStopTS = round(influxDF.iloc[i]['ltStopTS'])\n",
    "        startTime = datetime.fromtimestamp(ltStartTS)\n",
    "        stopTime = datetime.fromtimestamp(ltStopTS)\n",
    "        prom_metric_data =  prom.custom_query_range(query=query,\n",
    "                                      start_time=startTime,\n",
    "                                      end_time=stopTime,\n",
    "                                      step=step)\n",
    "        if len(prom_metric_data) > 0:\n",
    "            df_values = convert_prometheus_to_df(prom_metric_data)\n",
    "            csv_name=f'{fileName}_{ltStartTS}_{ltStopTS}.csv'\n",
    "            df_values.to_csv(csv_name, index=True, index_label='EventDateTime', header=True)\n",
    "        else:\n",
    "            print(f'Empty prometheus metric set at index {i}\\n')"
   ]
  },
  {
   "cell_type": "code",
   "execution_count": null,
   "id": "b7da6210-dbb9-4d6a-95d5-7db5e94ff7c4",
   "metadata": {},
   "outputs": [],
   "source": [
    "influxLT_df_with_spikes_prom = influxLT_df_with_spikes.iloc[7:]"
   ]
  },
  {
   "cell_type": "code",
   "execution_count": null,
   "id": "c5f64a34-0740-4497-b853-95de8421ecfa",
   "metadata": {},
   "outputs": [],
   "source": [
    "influxLT_df_with_spikes_prom.shape"
   ]
  },
  {
   "cell_type": "code",
   "execution_count": null,
   "id": "951d75ee-ba9f-45ae-a75a-645a97818d2d",
   "metadata": {
    "editable": true,
    "slideshow": {
     "slide_type": ""
    },
    "tags": []
   },
   "outputs": [],
   "source": [
    "q_wmock_total_req_rate_10s = 'sum(rate(wiremock_requests_total[10s]))'"
   ]
  },
  {
   "cell_type": "code",
   "execution_count": null,
   "id": "b93c7001-1a76-41d8-9baa-47eda416c2a2",
   "metadata": {},
   "outputs": [],
   "source": [
    "extract_prometheus_data(influxLT_df_with_spikes, q_wmock_total_req_rate_10s, 'wireMock10sMSGRate')"
   ]
  },
  {
   "cell_type": "code",
   "execution_count": null,
   "id": "d75aed76-198d-44cc-b653-57170ac0bf40",
   "metadata": {
    "editable": true,
    "slideshow": {
     "slide_type": ""
    },
    "tags": []
   },
   "outputs": [],
   "source": [
    "q_wmock_overall_service_cpu_load_10s_rate = 'sum(avg by (service) (rate(process_cpu_seconds_total{service=~\"wiremock-metrics-.*\"}[10s])*100))'"
   ]
  },
  {
   "cell_type": "code",
   "execution_count": null,
   "id": "e11421c0-50b7-4432-b1a5-e46a52729f05",
   "metadata": {},
   "outputs": [],
   "source": [
    "extract_prometheus_data(influxLT_df_with_spikes, q_wmock_overall_service_cpu_load_10s_rate, 'wireMock10sOverallServiceCPULoadRate')"
   ]
  },
  {
   "cell_type": "code",
   "execution_count": null,
   "id": "0bbf8e72-ef33-44a1-8409-4f0935f6fbd1",
   "metadata": {
    "editable": true,
    "slideshow": {
     "slide_type": ""
    },
    "tags": []
   },
   "outputs": [],
   "source": [
    "q_wiremock_overall_jvm_thread_10s_rate = 'sum(rate(jvm_threads_current{service=~\"wiremock-metrics-.*\"}[10s]))'"
   ]
  },
  {
   "cell_type": "code",
   "execution_count": null,
   "id": "e890021b-e6a2-4884-843d-cb05b82b5c98",
   "metadata": {},
   "outputs": [],
   "source": [
    "extract_prometheus_data(influxLT_df_with_spikes, q_wiremock_overall_jvm_thread_10s_rate, 'wireMock10sOverallJVMThreadRate')"
   ]
  },
  {
   "cell_type": "code",
   "execution_count": null,
   "id": "1343c7e8-41b4-4bc5-ac11-d12b4a73fca8",
   "metadata": {
    "editable": true,
    "slideshow": {
     "slide_type": ""
    },
    "tags": []
   },
   "outputs": [],
   "source": [
    "q_wmock_overall_heapKB_10s_rate = 'sum(rate(jvm_memory_bytes_used{area=\"heap\",service=~\"wiremock-metrics-.*\"}[10s])/1024)'"
   ]
  },
  {
   "cell_type": "code",
   "execution_count": null,
   "id": "d11bab92-e50a-48af-8394-dcae3a09c6b2",
   "metadata": {},
   "outputs": [],
   "source": [
    "extract_prometheus_data(influxLT_df_with_spikes, q_wmock_overall_heapKB_10s_rate, 'wireMock10sOverallHeapKBRate')"
   ]
  },
  {
   "cell_type": "code",
   "execution_count": null,
   "id": "023aa83f-25f6-48b7-bef6-e69b6069f346",
   "metadata": {},
   "outputs": [],
   "source": [
    "extract_prometheus_data(influxLT_df_with_spikes, q_lg_msg_w_spike_10s_rate, 'loadGen10sMSGwSpikesRate')"
   ]
  },
  {
   "cell_type": "code",
   "execution_count": null,
   "id": "6ff2eee6-edc2-4cc6-ab0f-9d58867edba4",
   "metadata": {},
   "outputs": [],
   "source": [
    "extract_prometheus_data(influxLT_df_with_spikes, q_lg_msg_10s_rate, 'loadGen10sMSGRate')"
   ]
  },
  {
   "cell_type": "code",
   "execution_count": null,
   "id": "81df019b-9d16-4702-8c08-9d0b72822702",
   "metadata": {},
   "outputs": [],
   "source": [
    "extract_prometheus_data(influxLT_df_with_spikes, q_lg_spike_msg_10s_rate, 'loadGen10sSpikeMSGRate')"
   ]
  },
  {
   "cell_type": "code",
   "execution_count": null,
   "id": "85277e25-9f14-4edb-b51c-5010f2b3c8d2",
   "metadata": {},
   "outputs": [],
   "source": [
    "extract_prometheus_data(influxLT_df_with_spikes, q_lg_avg_latency, 'loadGenAvgLatencyMS5s', step=\"5s\")"
   ]
  },
  {
   "cell_type": "code",
   "execution_count": null,
   "id": "6184c863-e532-4f83-b6e6-8fc3f2d36a41",
   "metadata": {},
   "outputs": [],
   "source": [
    "extract_prometheus_data(influxLT_df_with_spikes, q_lg_avg_latency, 'loadGenAvgLatencyMS10s', step=\"10s\")"
   ]
  },
  {
   "cell_type": "code",
   "execution_count": null,
   "id": "6efd12fb-31d2-4c54-91cc-daf02e2062ca",
   "metadata": {},
   "outputs": [],
   "source": [
    "extract_prometheus_data(influxLT_df_with_spikes, q_lg_avg_latency, 'loadGenAvgLatencyMS1s', step=\"1s\")"
   ]
  },
  {
   "cell_type": "code",
   "execution_count": null,
   "id": "00c393d0-b935-4cf8-9635-71c3cc48d7a2",
   "metadata": {},
   "outputs": [],
   "source": [
    "extract_prometheus_data(influxLT_df_with_spikes, q_lg_avg_latecy_10s_rate, 'loadGenAvgLatencyMSRate10s', step=\"10s\")"
   ]
  },
  {
   "cell_type": "code",
   "execution_count": null,
   "id": "493fb504-e8d4-44e1-a3be-fe44f7f6f4b0",
   "metadata": {},
   "outputs": [],
   "source": []
  }
 ],
 "metadata": {
  "kernelspec": {
   "display_name": "TensorFlow-CPU",
   "language": "python",
   "name": "tf-cpu"
  },
  "language_info": {
   "codemirror_mode": {
    "name": "ipython",
    "version": 3
   },
   "file_extension": ".py",
   "mimetype": "text/x-python",
   "name": "python",
   "nbconvert_exporter": "python",
   "pygments_lexer": "ipython3",
   "version": "3.11.7"
  }
 },
 "nbformat": 4,
 "nbformat_minor": 5
}
