{
 "cells": [
  {
   "cell_type": "markdown",
   "id": "6533a91e-99ee-426b-bd3b-4ca9578f52a6",
   "metadata": {},
   "source": [
    "### Using the model from the experiment that provided the best MSE value\n",
    "Look up the results in MLFlow for the best experiment and retrieve model name and MLFlow run_id, then fill them in the appropriate cells in this notebook"
   ]
  },
  {
   "cell_type": "code",
   "execution_count": 1,
   "id": "3cef26e3-ac4c-49d8-86a2-b5eeb7a2e624",
   "metadata": {},
   "outputs": [],
   "source": [
    "import os\n",
    "os.environ['TF_CPP_MIN_LOG_LEVEL']='2'\n",
    "os.environ[\"RAY_IGNORE_UNHANDLED_ERRORS\"] = \"1\"\n",
    "os.environ[\"RAY_memory_monitor_refresh_ms\"] = \"0\" # do not kill raylet if low on memmory\n",
    "os.environ[\"RAY_TASK_MAX_RETRIES\"] = \"2\""
   ]
  },
  {
   "cell_type": "code",
   "execution_count": 2,
   "id": "8c118dda-5cb7-4de9-822a-cf1488e340b3",
   "metadata": {},
   "outputs": [],
   "source": [
    "import ray\n",
    "import mlflow\n",
    "import uuid"
   ]
  },
  {
   "cell_type": "code",
   "execution_count": 3,
   "id": "f50c512f-7079-487c-9ebf-23b2165c3129",
   "metadata": {
    "tags": []
   },
   "outputs": [],
   "source": [
    "import tensorflow as tf\n",
    "from tensorflow.keras.models import Model, Sequential\n",
    "from tensorflow.keras.layers import Bidirectional,LSTM, Dense, Dropout, Flatten, Input\n",
    "from tensorflow.keras.optimizers import Adam\n",
    "from tensorflow.keras.callbacks import ReduceLROnPlateau, ModelCheckpoint, EarlyStopping\n",
    "from tensorflow.keras.regularizers import l1, l2, l1_l2"
   ]
  },
  {
   "cell_type": "code",
   "execution_count": 4,
   "id": "e333bb1f-7844-42f7-8afc-9da4502ec6e4",
   "metadata": {},
   "outputs": [],
   "source": [
    "import numpy as np\n",
    "import pandas as pd"
   ]
  },
  {
   "cell_type": "code",
   "execution_count": 5,
   "id": "33d3f7ed-8a14-4112-a333-f36d24bc0812",
   "metadata": {
    "tags": []
   },
   "outputs": [],
   "source": [
    "import pytz, datetime, time\n",
    "from datetime import timedelta, datetime\n",
    "local_tz = pytz.timezone('America/Toronto') # Set local timezone"
   ]
  },
  {
   "cell_type": "code",
   "execution_count": 6,
   "id": "72e322e9-2b15-448e-829f-fdbe5abb7da8",
   "metadata": {
    "tags": []
   },
   "outputs": [],
   "source": [
    "import matplotlib\n",
    "import matplotlib.dates as md\n",
    "import matplotlib.pyplot as plt\n",
    "%matplotlib inline\n",
    "matplotlib.rcParams['timezone'] = 'America/Toronto'"
   ]
  },
  {
   "cell_type": "code",
   "execution_count": 7,
   "id": "390bd377-bc86-4dd0-8a61-3757b9d41886",
   "metadata": {
    "tags": []
   },
   "outputs": [],
   "source": [
    "from keras.models import load_model, save_model\n",
    "from sklearn.metrics import r2_score, mean_absolute_percentage_error, mean_squared_error, mean_absolute_error"
   ]
  },
  {
   "cell_type": "code",
   "execution_count": 8,
   "id": "39d463ca-7868-4f8f-8da4-7ffb8f6a422a",
   "metadata": {
    "tags": []
   },
   "outputs": [],
   "source": [
    "%run '../lib/utils_anomaly_detection.ipynb'"
   ]
  },
  {
   "cell_type": "code",
   "execution_count": 9,
   "id": "93067f79-f78e-4b6c-9951-c93b84d7f9ea",
   "metadata": {
    "tags": []
   },
   "outputs": [],
   "source": [
    "from pathlib import Path\n",
    "import os, sys\n",
    "\n",
    "dataFileList = !ls ../../data/rq2-valid/*msg-w-spikes*.csv\n",
    "dataLatencyFileList =  !ls ../../data/rq2-valid/*avg-latency*.csv"
   ]
  },
  {
   "cell_type": "code",
   "execution_count": 10,
   "id": "72a0d2a3-5e74-42a1-95b7-9e6cf3601721",
   "metadata": {
    "tags": []
   },
   "outputs": [],
   "source": [
    "pd.set_option('display.max_rows', 5000)\n",
    "pd.pandas.set_option('display.max_columns', None)"
   ]
  },
  {
   "cell_type": "code",
   "execution_count": 11,
   "id": "098a64bf-d03e-43df-bc4c-397fe8da5235",
   "metadata": {},
   "outputs": [],
   "source": [
    "MLFLOW_URI='http://localhost:8080/'"
   ]
  },
  {
   "cell_type": "code",
   "execution_count": 12,
   "id": "90a4cb68-9117-44eb-9da7-479fc1afb9e5",
   "metadata": {},
   "outputs": [],
   "source": [
    "mlflow_run_id = '37f74a3a5b0d4b96a4cf029d2d0342e3'"
   ]
  },
  {
   "cell_type": "code",
   "execution_count": 13,
   "id": "b3a7ed92-3355-4647-9673-273f466fce81",
   "metadata": {},
   "outputs": [],
   "source": [
    "model_name = 'CNN_valueMinMaxScaled-T_15-LY_1-DLY_1-NN_32-LR_0.001-epochs_200-40be7db7b8814541831d17f1596f8c1b.keras'"
   ]
  },
  {
   "cell_type": "code",
   "execution_count": 14,
   "id": "9cca1451-03f0-48ec-9832-d47022dd04ca",
   "metadata": {},
   "outputs": [],
   "source": [
    "mlflow.set_tracking_uri(MLFLOW_URI)\n",
    "mlflow.set_registry_uri(MLFLOW_URI)"
   ]
  },
  {
   "cell_type": "code",
   "execution_count": 15,
   "id": "7d3a7fd9-1de8-4d24-933c-975f4b22d97d",
   "metadata": {},
   "outputs": [],
   "source": [
    "#model = mlflow.tensorflow.load_model(f'models:/{model_name}/1')\n",
    "\n",
    "model_params = mlflow.get_run(mlflow_run_id).to_dictionary()['data']['params']"
   ]
  },
  {
   "cell_type": "code",
   "execution_count": 16,
   "id": "978c19f4-c6d1-4056-89d4-bf7383a9c464",
   "metadata": {
    "tags": []
   },
   "outputs": [],
   "source": [
    "modelTypeName = \"CNN_valueMinMaxScaled\""
   ]
  },
  {
   "cell_type": "code",
   "execution_count": 17,
   "id": "c1e19715-66e2-4ee4-b321-1399c4bccdf1",
   "metadata": {
    "tags": []
   },
   "outputs": [],
   "source": [
    "dataColumnName = 'valueMinMaxScaled'"
   ]
  },
  {
   "cell_type": "code",
   "execution_count": 18,
   "id": "d6d6c612-07bb-444e-a72e-4528c9a9220f",
   "metadata": {},
   "outputs": [
    {
     "data": {
      "text/plain": [
       "{'n_layer_size': '32',\n",
       " 'n_layers': '1',\n",
       " 'n_dense_layers': '1',\n",
       " 'activation_fn': 'relu',\n",
       " 'epochs': '200',\n",
       " 'learning_rate': '0.001',\n",
       " 'optimizer': 'adam',\n",
       " 'time_window': '15',\n",
       " 'dropout': '0',\n",
       " 'dense_dp': '0.4',\n",
       " 'model_exp': 'CNN_valueMinMaxScaled',\n",
       " 'conv_kernel': '3'}"
      ]
     },
     "execution_count": 18,
     "metadata": {},
     "output_type": "execute_result"
    }
   ],
   "source": [
    "model_params"
   ]
  },
  {
   "cell_type": "code",
   "execution_count": 19,
   "id": "9b39c914-48d7-4bd3-969e-745fdf6de5cb",
   "metadata": {},
   "outputs": [],
   "source": [
    "T = int(model_params['time_window'])"
   ]
  },
  {
   "cell_type": "code",
   "execution_count": 20,
   "id": "7377f661-4af6-4d83-bdb2-eff23a2592a9",
   "metadata": {},
   "outputs": [],
   "source": [
    "\"\"\"\n",
    " This function uses one Tensor formatted input from the X_test dataset in order to predict ahead by a number\n",
    " of given steps. Then it readjusts by using another true value from X_test (as the nex index) before starting\n",
    " a new prediction cycle\n",
    "\"\"\"\n",
    "def generate_nsteps_forecast(x_test, nn_model, pred_ahead):\n",
    "    max_len = x_test.shape[0]\n",
    "    y_pred = []\n",
    "    last_x = x_test[0]\n",
    "    index = 0\n",
    "    while len(y_pred) < max_len:\n",
    "        sequence = 0\n",
    "        while sequence < pred_ahead:\n",
    "            try:\n",
    "                x_crt_input = last_x.reshape(1, -1, 1)\n",
    "                p_vector = nn_model.predict(x_crt_input, verbose=0)\n",
    "                p = p_vector[0,0] # 1x1 array -> scalar\n",
    "            except:\n",
    "                print(f'Prediction error for x={x_crt_input} at sequence={sequence} for start index={index} when pred_ahead={pred_ahead}')\n",
    "                print(f'Model config was:{nn_model.get_config()}')\n",
    "                p = 0\n",
    "                \n",
    "            # update the predictions list\n",
    "            y_pred.append(p)\n",
    "\n",
    "            # make the new input\n",
    "            last_x = np.roll(last_x, -1)\n",
    "            last_x[-1] = p\n",
    "            \n",
    "            # increase index for the next run\n",
    "            sequence += 1\n",
    "\n",
    "        index += sequence\n",
    "        if index < max_len:\n",
    "            last_x = x_test[index]\n",
    "            #print(f\"Arrived at index = {index} of {max_len} with value X={last_x}\")\n",
    "    \n",
    "    if len(y_pred) > max_len:\n",
    "        # predicted too much, cutoff the tail\n",
    "        y_pred = y_pred[0:max_len]\n",
    "        \n",
    "    return np.array(y_pred)"
   ]
  },
  {
   "cell_type": "code",
   "execution_count": 21,
   "id": "146f12f0-2fe7-454e-8b1b-24d36e0ec818",
   "metadata": {},
   "outputs": [],
   "source": [
    "@ray.remote\n",
    "def run_n_step_evaluation(model_name, run_id, predict_ahead, trial_fname):\n",
    "    import mlflow\n",
    "    mlflow.set_tracking_uri(MLFLOW_URI)\n",
    "    mlflow.set_registry_uri(MLFLOW_URI)\n",
    "    #model_params = mlflow.get_run(mlflow_run_id).to_dictionary()['data']['params']\n",
    "    model = mlflow.tensorflow.load_model(f'models:/{model_name}/1')\n",
    "\n",
    "    n_neurons = model_params['n_layer_size']\n",
    "    learning_rate = model_params['learning_rate']\n",
    "    n_epochs = model_params['epochs']\n",
    "    model_exp = model_params['model_exp']\n",
    "    #T = model_params['time_window']\n",
    "\n",
    "    X_train, Y_train, X_test, Y_test = prepare_dataset(dataFrame[dataColumnName], T)\n",
    "\n",
    "    y_predict = model.predict(X_test, verbose=0)\n",
    "    y_pred_nsteps = generate_nsteps_forecast(X_test, model, predict_ahead)\n",
    "\n",
    "    n_step_metrics = {}\n",
    "    one_step_metrics = {}\n",
    "\n",
    "    #one-step-prediction computations\n",
    "    errors_ae = calculate_absolute_prediction_errors(Y_test, y_predict)\n",
    "    anomalies_ae = calculate_3sigma_anomalies(errors_ae)\n",
    "    errors_se = calculate_squared_prediction_errors(Y_test, y_predict)\n",
    "    anomalies_se = calculate_3sigma_anomalies(errors_se)\n",
    "    anomalies_3sigma_Y_test = calculate_3sigma_anomalies(Y_test)\n",
    "    anomalies_3sigma_y_predict = calculate_3sigma_anomalies(y_predict)\n",
    "    \n",
    "    anomalies_Y_test, z_scores_Y_test = calculate_zscore_anomalies(Y_test)\n",
    "    anomalies_y_predict, z_scores_y_predict = calculate_zscore_anomalies(y_predict)\n",
    "    anomalies_errors_ae, z_scores_errors_ae = calculate_zscore_anomalies(errors_ae)\n",
    "    anomalies_errors_se, z_scores_errors_se = calculate_zscore_anomalies(errors_se)\n",
    "    \n",
    "    anomalies_Y_test_mod, z_scores_Y_test_mod = calculate_modified_zscore_anomalies(Y_test)\n",
    "    anomalies_y_predict_mod, z_scores_y_predict_mod = calculate_modified_zscore_anomalies(y_predict)\n",
    "    anomalies_errors_ae_mod, z_scores_errors_ae_mod = calculate_modified_zscore_anomalies(errors_ae)\n",
    "    anomalies_errors_se_mod, z_scores_errors_se_mod = calculate_modified_zscore_anomalies(errors_se)\n",
    "    \n",
    "    try:\n",
    "        r2 = r2_score(Y_test, y_predict)\n",
    "    except:\n",
    "        r2 = 110\n",
    "    if np.isnan(r2):\n",
    "        r2 = 110\n",
    "\n",
    "    try:\n",
    "        mae = mean_absolute_error(Y_test, y_predict)\n",
    "    except:\n",
    "        mae = 100\n",
    "    if np.isnan(mae):\n",
    "        mae = 100\n",
    "\n",
    "    try:\n",
    "        mape = mean_absolute_percentage_error(Y_test, y_predict)\n",
    "    except:\n",
    "        mape = 100\n",
    "    if np.isnan(mape):\n",
    "        mape = 100\n",
    "\n",
    "    try:\n",
    "        mse = mean_squared_error(Y_test, y_predict)\n",
    "    except:\n",
    "        mse = 100\n",
    "    if np.isnan(mse):\n",
    "        mse = 100\n",
    "    \n",
    "    try:\n",
    "        pcc = np.corrcoef(Y_test, y_predict.flatten())[0,1]\n",
    "    except:\n",
    "        pcc = 100\n",
    "    if np.isnan(pcc):\n",
    "        pcc = 100\n",
    "\n",
    "    one_step_metrics= {\n",
    "                        'r2_1Step': r2,\n",
    "                        'mae_1Step': mae,\n",
    "                        'mape_1Step': mape,\n",
    "                        'mse_1Step': mse,\n",
    "                        'pcc_1Step': pcc\n",
    "    }\n",
    "\n",
    "    #n-step predictions computations\n",
    "    errors_ae2 = calculate_absolute_prediction_errors(Y_test, y_pred_nsteps)\n",
    "    anomalies_ae2 = calculate_3sigma_anomalies(errors_ae2)        \n",
    "    errors_se2 = calculate_squared_prediction_errors(Y_test, y_pred_nsteps)\n",
    "    anomalies_se2 = calculate_3sigma_anomalies(errors_se2)\n",
    "    anomalies_y_pred_nsteps_mod, z_scores_y_pred_nsteps_mod = calculate_modified_zscore_anomalies(y_pred_nsteps)\n",
    "    anomalies_errors_ae2_mod, z_scores_errors_ae2_mod = calculate_modified_zscore_anomalies(errors_ae2)\n",
    "    anomalies_errors_se2_mod, z_scores_errors_se2_mod = calculate_modified_zscore_anomalies(errors_se2)\n",
    "\n",
    "    try:\n",
    "        r2_nStep = r2_score(Y_test, y_pred_nsteps)\n",
    "    except:\n",
    "        r2_nStep = 100\n",
    "\n",
    "    try:\n",
    "        mae_nStep = mean_absolute_error(Y_test, y_pred_nsteps)\n",
    "    except:\n",
    "        mae_nStep = 100\n",
    "\n",
    "    try:\n",
    "        mape_nStep = mean_absolute_percentage_error(Y_test, y_pred_nsteps)\n",
    "    except:\n",
    "        mape_nStep = 100\n",
    "\n",
    "    try:\n",
    "        mse_nStep = mean_squared_error(Y_test, y_pred_nsteps)\n",
    "    except:\n",
    "        mse_nStep = 100\n",
    "\n",
    "    try:\n",
    "        pcc_nStep = np.corrcoef(Y_test, y_pred_nsteps.flatten())[0,1]\n",
    "    except:\n",
    "        pcc_nStep = 100\n",
    "\n",
    "    crt_step = f'predict_ahead_{predict_ahead}'\n",
    "    n_step_metrics = {\n",
    "        'r2_nStep': r2_nStep,\n",
    "        'mae_nStep': mae_nStep,\n",
    "        'mape_nStep': mape_nStep,\n",
    "        'mse_nStep': mse_nStep,\n",
    "        'pcc_nStep': pcc_nStep\n",
    "    }\n",
    "    anomalies_3sigma_y_pred_nsteps = calculate_3sigma_anomalies(y_pred_nsteps)\n",
    "    anomalies_y_pred_nsteps, z_scores_y_pred_nsteps = calculate_zscore_anomalies(y_pred_nsteps)\n",
    "    anomalies_errors_ae2, z_scores_errors_ae2 = calculate_zscore_anomalies(errors_ae2)\n",
    "    anomalies_errors_se2, z_scores_errors_se2 = calculate_zscore_anomalies(errors_se2)\n",
    "\n",
    "    result = {\n",
    "        'one_step_metrics' : one_step_metrics,\n",
    "        'n_step_metrics' : n_step_metrics\n",
    "    }\n",
    "    \n",
    "    with mlflow.start_run(run_id=run_id, nested=True):\n",
    "        fig = plt.figure(figsize=(20,15))\n",
    "        title = f'Anomalies Y_test for {trial_fname}'\n",
    "        plt.title(title)\n",
    "        plt.plot(Y_test,label=\"Original Data\", alpha=0.6, c='gray')\n",
    "        plt.scatter(np.where(anomalies_Y_test==True)[0], Y_test[np.where(anomalies_Y_test==1)], \n",
    "                    alpha=0.8, color='green', s=250, label=\"Z-Score Anomalies\")\n",
    "        plt.scatter(np.where(anomalies_3sigma_Y_test==True)[0], Y_test[np.where(anomalies_3sigma_Y_test==1)], \n",
    "                    alpha=0.8, color='red', s=150, label=\"3-Sigma Anomalies\")\n",
    "        plt.scatter(np.where(anomalies_Y_test_mod==True)[0], Y_test[np.where(anomalies_Y_test_mod==1)], \n",
    "                    alpha=0.8, color='blue', s=100, label=\"Modified Z-Score Anomalies\")    \n",
    "        plt.legend()\n",
    "        figName = f\"Y_test_anomalies-T_{T}-fname-{trial_fname}.png\"\n",
    "        mlflow.log_figure(fig, figName)\n",
    "        fig.clf()\n",
    "        plt.close()\n",
    "\n",
    "        fig = plt.figure(figsize=(20,15))\n",
    "        title = \"Predict Anomalies T=\" + str(T) + \" with predict 1 on \"+ str(model_exp) + \"for \" + str(trial_fname)\n",
    "        plt.title(title)\n",
    "        plt.plot(y_predict,label=\"Predict 1-step Forecast\", alpha=0.6, c='red', linewidth=3)\n",
    "        plt.plot(Y_test,label=\"Original Data\", alpha=0.6, c='black')\n",
    "        plt.scatter(np.where(anomalies_ae==True), y_predict[np.where(anomalies_ae==True)], \n",
    "                    alpha=0.8, color='green', s=350, label=\"3-Sigma Anomalies AE\")\n",
    "        plt.scatter(np.where(anomalies_se==True), y_predict[np.where(anomalies_se==True)], \n",
    "                    alpha=0.8, color='magenta', s=300, label = \"3-Sigma Anomalies SE\")\n",
    "        plt.scatter(np.where(anomalies_errors_ae==True), y_predict[np.where(anomalies_errors_ae==True)], \n",
    "                    alpha=0.8, color='blue', s=250, label = \"Z-score Anomalies AE\")\n",
    "        plt.scatter(np.where(anomalies_errors_se==True), y_predict[np.where(anomalies_errors_se==True)], \n",
    "                    alpha=0.8, color='cyan', s=200, label = \"Z-score Anomalies SE\")\n",
    "        plt.scatter(np.where(anomalies_errors_ae_mod==True), y_predict[np.where(anomalies_errors_ae_mod==True)], \n",
    "                    alpha=0.8, color='lightgreen', s=150, label = \"Modified Z-score Anomalies AE\")\n",
    "        plt.scatter(np.where(anomalies_errors_se_mod==True), y_predict[np.where(anomalies_errors_se_mod==True)], \n",
    "                    alpha=0.8, color='orange', s=50, label = \"Modified Z-score Anomalies SE\")    \n",
    "        plt.legend()    \n",
    "        figName = f\"Y_predict-1-step-anomalies-T_{T}-fname-{trial_fname}.png\"\n",
    "        mlflow.log_figure(fig, figName)\n",
    "        fig.clf()\n",
    "        plt.close()\n",
    "\n",
    "        fig = plt.figure(figsize=(20,15))\n",
    "        title = \"Compare forecasts T=\" + str(T) + \" predict_ahead=\" + str(predict_ahead) + \" with predict 1\" + \\\n",
    "                 \"for \" + str(trial_fname)\n",
    "        plt.title(title)\n",
    "        plt.plot(Y_test,label=\"Original Data\", alpha=0.6, c='red',linewidth=2)\n",
    "        plt.plot(y_predict,label=\"Predicted Data 1-step\", alpha=0.6, c='black', linewidth=2)\n",
    "        plt.plot(y_pred_nsteps,label=\"Predicted Data \" + str(predict_ahead) + \"-steps\", alpha=0.6, c='blue', linewidth=2)\n",
    "        plt.legend()\n",
    "        figName = f\"compare-forecasts-1_{predict_ahead}-fname-{trial_fname}.png\"\n",
    "        mlflow.log_figure(fig, figName)\n",
    "        fig.clf()\n",
    "        plt.close()\n",
    "        \n",
    "        fig = plt.figure(figsize=(20,15)) \n",
    "        title = \"Predict Anomalies T=\" + str(T) + \" with predict \" + str(predict_ahead) + \" on \" + str(model_exp) + \"for \" + str(trial_fname)\n",
    "        plt.title(title)\n",
    "        plt.plot(y_pred_nsteps,label=\"Predict \" + str(predict_ahead) + \"-step Forecast\", alpha=0.6, c='red', linewidth=3)\n",
    "        plt.plot(Y_test,label=\"Original Data\", alpha=0.6, c='black')\n",
    "        plt.scatter(np.where(anomalies_ae2==True), y_pred_nsteps[np.where(anomalies_ae2==True)], \n",
    "                    alpha=0.8, color='green', s=350, label=\"Anomalies AE\")\n",
    "        plt.scatter(np.where(anomalies_se2==True), y_pred_nsteps[np.where(anomalies_se2==True)], \n",
    "                    alpha=0.8, color='magenta', s=300, label = \"Anomalies SE\")\n",
    "        plt.scatter(np.where(anomalies_errors_ae2==True), y_pred_nsteps[np.where(anomalies_errors_ae2==True)], \n",
    "                    alpha=0.8, color='blue', s=250, label = \"Z-score Anomalies AE\")\n",
    "        plt.scatter(np.where(anomalies_errors_se2==True), y_pred_nsteps[np.where(anomalies_errors_se2==True)], \n",
    "                    alpha=0.8, color='cyan', s=200, label = \"Z-score Anomalies SE\")\n",
    "        plt.scatter(np.where(anomalies_errors_ae2_mod==True), y_pred_nsteps[np.where(anomalies_errors_ae2_mod==True)], \n",
    "                    alpha=0.8, color='lime', s=150, label = \"Modified Z-score Anomalies AE\")\n",
    "        plt.scatter(np.where(anomalies_errors_se2_mod==True), y_pred_nsteps[np.where(anomalies_errors_se2_mod==True)], \n",
    "                    alpha=0.8, color='orange', s=50, label = \"Modified Z-score Anomalies SE\")        \n",
    "        plt.legend();    \n",
    "        figName = f\"Y-predict-anomalies-step-{predict_ahead}-with-T_{T}-fname-{trial_fname}.png\"\n",
    "        mlflow.log_figure(fig, figName)\n",
    "        fig.clf()\n",
    "        plt.close()    \n",
    "        \n",
    "        fname = f'Results-trial-{trial_fname}-{predict_ahead}-step-ahead.json'\n",
    "        mlflow.log_dict(result, fname)        \n",
    "    \n",
    "    return result"
   ]
  },
  {
   "cell_type": "code",
   "execution_count": 22,
   "id": "2e086dd6-4488-494c-aef0-9873e5d17c8c",
   "metadata": {},
   "outputs": [],
   "source": [
    "import os"
   ]
  },
  {
   "cell_type": "code",
   "execution_count": 23,
   "id": "56c4957e-ab13-4ec4-9b8e-3f8b20c3ab67",
   "metadata": {},
   "outputs": [
    {
     "name": "stderr",
     "output_type": "stream",
     "text": [
      "2024-02-12 23:14:59,537\tINFO worker.py:1612 -- Started a local Ray instance. View the dashboard at \u001b[1m\u001b[32m127.0.0.1:8265 \u001b[39m\u001b[22m\n"
     ]
    },
    {
     "data": {
      "application/vnd.jupyter.widget-view+json": {
       "model_id": "4358e78f8f6f4dc1b662283a2446dadd",
       "version_major": 2,
       "version_minor": 0
      },
      "text/html": [
       "<div class=\"lm-Widget p-Widget lm-Panel p-Panel jp-Cell-outputWrapper\">\n",
       "    <div style=\"margin-left: 50px;display: flex;flex-direction: row;align-items: center\">\n",
       "        <div class=\"jp-RenderedHTMLCommon\" style=\"display: flex; flex-direction: row;\">\n",
       "  <svg viewBox=\"0 0 567 224\" fill=\"none\" xmlns=\"http://www.w3.org/2000/svg\" style=\"height: 3em;\">\n",
       "    <g clip-path=\"url(#clip0_4338_178347)\">\n",
       "        <path d=\"M341.29 165.561H355.29L330.13 129.051C345.63 123.991 354.21 112.051 354.21 94.2307C354.21 71.3707 338.72 58.1807 311.88 58.1807H271V165.561H283.27V131.661H311.8C314.25 131.661 316.71 131.501 319.01 131.351L341.25 165.561H341.29ZM283.29 119.851V70.0007H311.82C331.3 70.0007 342.34 78.2907 342.34 94.5507C342.34 111.271 331.34 119.861 311.82 119.861L283.29 119.851ZM451.4 138.411L463.4 165.561H476.74L428.74 58.1807H416L367.83 165.561H380.83L392.83 138.411H451.4ZM446.19 126.601H398L422 72.1407L446.24 126.601H446.19ZM526.11 128.741L566.91 58.1807H554.35L519.99 114.181L485.17 58.1807H472.44L514.01 129.181V165.541H526.13V128.741H526.11Z\" fill=\"var(--jp-ui-font-color0)\"/>\n",
       "        <path d=\"M82.35 104.44C84.0187 97.8827 87.8248 92.0678 93.1671 87.9146C98.5094 83.7614 105.083 81.5067 111.85 81.5067C118.617 81.5067 125.191 83.7614 130.533 87.9146C135.875 92.0678 139.681 97.8827 141.35 104.44H163.75C164.476 101.562 165.622 98.8057 167.15 96.2605L127.45 56.5605C121.071 60.3522 113.526 61.6823 106.235 60.3005C98.9443 58.9187 92.4094 54.9203 87.8602 49.0574C83.3109 43.1946 81.0609 35.8714 81.5332 28.4656C82.0056 21.0599 85.1679 14.0819 90.4252 8.8446C95.6824 3.60726 102.672 0.471508 110.08 0.0272655C117.487 -0.416977 124.802 1.86091 130.647 6.4324C136.493 11.0039 140.467 17.5539 141.821 24.8501C143.175 32.1463 141.816 39.6859 138 46.0505L177.69 85.7505C182.31 82.9877 187.58 81.4995 192.962 81.4375C198.345 81.3755 203.648 82.742 208.33 85.3976C213.012 88.0532 216.907 91.9029 219.616 96.5544C222.326 101.206 223.753 106.492 223.753 111.875C223.753 117.258 222.326 122.545 219.616 127.197C216.907 131.848 213.012 135.698 208.33 138.353C203.648 141.009 198.345 142.375 192.962 142.313C187.58 142.251 182.31 140.763 177.69 138L138 177.7C141.808 184.071 143.155 191.614 141.79 198.91C140.424 206.205 136.44 212.75 130.585 217.313C124.731 221.875 117.412 224.141 110.004 223.683C102.596 223.226 95.6103 220.077 90.3621 214.828C85.1139 209.58 81.9647 202.595 81.5072 195.187C81.0497 187.779 83.3154 180.459 87.878 174.605C92.4405 168.751 98.9853 164.766 106.281 163.401C113.576 162.035 121.119 163.383 127.49 167.19L167.19 127.49C165.664 124.941 164.518 122.182 163.79 119.3H141.39C139.721 125.858 135.915 131.673 130.573 135.826C125.231 139.98 118.657 142.234 111.89 142.234C105.123 142.234 98.5494 139.98 93.2071 135.826C87.8648 131.673 84.0587 125.858 82.39 119.3H60C58.1878 126.495 53.8086 132.78 47.6863 136.971C41.5641 141.163 34.1211 142.972 26.7579 142.059C19.3947 141.146 12.6191 137.574 7.70605 132.014C2.79302 126.454 0.0813599 119.29 0.0813599 111.87C0.0813599 104.451 2.79302 97.2871 7.70605 91.7272C12.6191 86.1673 19.3947 82.5947 26.7579 81.6817C34.1211 80.7686 41.5641 82.5781 47.6863 86.7696C53.8086 90.9611 58.1878 97.2456 60 104.44H82.35ZM100.86 204.32C103.407 206.868 106.759 208.453 110.345 208.806C113.93 209.159 117.527 208.258 120.522 206.256C123.517 204.254 125.725 201.276 126.771 197.828C127.816 194.38 127.633 190.677 126.253 187.349C124.874 184.021 122.383 181.274 119.205 179.577C116.027 177.88 112.359 177.337 108.826 178.042C105.293 178.746 102.113 180.654 99.8291 183.44C97.5451 186.226 96.2979 189.718 96.3 193.32C96.2985 195.364 96.7006 197.388 97.4831 199.275C98.2656 201.163 99.4132 202.877 100.86 204.32ZM204.32 122.88C206.868 120.333 208.453 116.981 208.806 113.396C209.159 109.811 208.258 106.214 206.256 103.219C204.254 100.223 201.275 98.0151 197.827 96.97C194.38 95.9249 190.676 96.1077 187.348 97.4873C184.02 98.8669 181.274 101.358 179.577 104.536C177.879 107.714 177.337 111.382 178.041 114.915C178.746 118.448 180.653 121.627 183.439 123.911C186.226 126.195 189.717 127.443 193.32 127.44C195.364 127.443 197.388 127.042 199.275 126.259C201.163 125.476 202.878 124.328 204.32 122.88ZM122.88 19.4205C120.333 16.8729 116.981 15.2876 113.395 14.9347C109.81 14.5817 106.213 15.483 103.218 17.4849C100.223 19.4868 98.0146 22.4654 96.9696 25.9131C95.9245 29.3608 96.1073 33.0642 97.4869 36.3922C98.8665 39.7202 101.358 42.4668 104.535 44.1639C107.713 45.861 111.381 46.4036 114.914 45.6992C118.447 44.9949 121.627 43.0871 123.911 40.301C126.195 37.515 127.442 34.0231 127.44 30.4205C127.44 28.3772 127.038 26.3539 126.255 24.4664C125.473 22.5788 124.326 20.8642 122.88 19.4205ZM19.42 100.86C16.8725 103.408 15.2872 106.76 14.9342 110.345C14.5813 113.93 15.4826 117.527 17.4844 120.522C19.4863 123.518 22.4649 125.726 25.9127 126.771C29.3604 127.816 33.0638 127.633 36.3918 126.254C39.7198 124.874 42.4664 122.383 44.1635 119.205C45.8606 116.027 46.4032 112.359 45.6988 108.826C44.9944 105.293 43.0866 102.114 40.3006 99.8296C37.5145 97.5455 34.0227 96.2983 30.42 96.3005C26.2938 96.3018 22.337 97.9421 19.42 100.86ZM100.86 100.86C98.3125 103.408 96.7272 106.76 96.3742 110.345C96.0213 113.93 96.9226 117.527 98.9244 120.522C100.926 123.518 103.905 125.726 107.353 126.771C110.8 127.816 114.504 127.633 117.832 126.254C121.16 124.874 123.906 122.383 125.604 119.205C127.301 116.027 127.843 112.359 127.139 108.826C126.434 105.293 124.527 102.114 121.741 99.8296C118.955 97.5455 115.463 96.2983 111.86 96.3005C109.817 96.299 107.793 96.701 105.905 97.4835C104.018 98.2661 102.303 99.4136 100.86 100.86Z\" fill=\"#00AEEF\"/>\n",
       "    </g>\n",
       "    <defs>\n",
       "        <clipPath id=\"clip0_4338_178347\">\n",
       "            <rect width=\"566.93\" height=\"223.75\" fill=\"white\"/>\n",
       "        </clipPath>\n",
       "    </defs>\n",
       "  </svg>\n",
       "</div>\n",
       "\n",
       "        <table class=\"jp-RenderedHTMLCommon\" style=\"border-collapse: collapse;color: var(--jp-ui-font-color1);font-size: var(--jp-ui-font-size1);\">\n",
       "    <tr>\n",
       "        <td style=\"text-align: left\"><b>Python version:</b></td>\n",
       "        <td style=\"text-align: left\"><b>3.10.13</b></td>\n",
       "    </tr>\n",
       "    <tr>\n",
       "        <td style=\"text-align: left\"><b>Ray version:</b></td>\n",
       "        <td style=\"text-align: left\"><b>2.6.3</b></td>\n",
       "    </tr>\n",
       "    <tr>\n",
       "    <td style=\"text-align: left\"><b>Dashboard:</b></td>\n",
       "    <td style=\"text-align: left\"><b><a href=\"http://127.0.0.1:8265\" target=\"_blank\">http://127.0.0.1:8265</a></b></td>\n",
       "</tr>\n",
       "\n",
       "</table>\n",
       "\n",
       "    </div>\n",
       "</div>\n"
      ],
      "text/plain": [
       "RayContext(dashboard_url='127.0.0.1:8265', python_version='3.10.13', ray_version='2.6.3', ray_commit='8a434b4ee7cd48e60fa1531315d39901fac5d79e', protocol_version=None)"
      ]
     },
     "execution_count": 23,
     "metadata": {},
     "output_type": "execute_result"
    },
    {
     "name": "stderr",
     "output_type": "stream",
     "text": [
      "Downloading artifacts:   0%|          | 0/12 [00:00<?, ?it/s]2024/02/12 23:15:05 INFO mlflow.store.artifact.artifact_repo: The progress bar can be disabled by setting the environment variable MLFLOW_ENABLE_ARTIFACTS_PROGRESS_BAR to false\n",
      "Downloading artifacts:  75%|███████▌  | 9/12 [00:00<00:00, 602.38it/s]  \n",
      "Downloading artifacts: 100%|██████████| 12/12 [00:00<00:00, 274.00it/s] \n",
      "Downloading artifacts:  83%|████████▎ | 10/12 [00:00<00:00, 381.56it/s] \n",
      "Downloading artifacts:  83%|████████▎ | 10/12 [00:00<00:00, 610.43it/s]\n",
      "Downloading artifacts: 100%|██████████| 12/12 [00:00<00:00, 432.22it/s]\n",
      "Downloading artifacts:  50%|█████     | 6/12 [00:00<00:00, 11209.72it/s]\n",
      "Downloading artifacts: 100%|██████████| 12/12 [00:00<00:00, 306.03it/s] \n",
      "Downloading artifacts:  58%|█████▊    | 7/12 [00:00<00:00, 517.57it/s]  \n",
      "Downloading artifacts:  92%|█████████▏| 11/12 [00:00<00:00, 573.87it/s] \n",
      "Downloading artifacts: 100%|██████████| 12/12 [00:00<00:00, 319.56it/s]\n",
      "Downloading artifacts: 100%|██████████| 12/12 [00:00<00:00, 433.24it/s]\n"
     ]
    }
   ],
   "source": [
    "ray.shutdown()\n",
    "ray.init()"
   ]
  },
  {
   "cell_type": "code",
   "execution_count": 24,
   "id": "4d38f8cc-ee67-4ab2-b395-fe2659e04f11",
   "metadata": {
    "tags": []
   },
   "outputs": [
    {
     "name": "stdout",
     "output_type": "stream",
     "text": [
      "Processing files at position 0 in list\n",
      "Processing files at position 1 in list\n"
     ]
    }
   ],
   "source": [
    "results_trials = {}\n",
    "for filePos in range(len(dataFileList)):\n",
    "    \n",
    "    data = pd.read_csv(dataFileList[filePos], index_col='EventDateTime', parse_dates=['EventDateTime'])\n",
    "    dataLatency = pd.read_csv(dataLatencyFileList[filePos], index_col='EventDateTime', parse_dates=['EventDateTime'])\n",
    "    print(f'Processing files at position {filePos} in list')\n",
    "    %run '../lib/prepareDataSet.ipynb'\n",
    "\n",
    "    trial_fname = os.path.basename(dataFileList[filePos])\n",
    "    results_predict_ahead = {}\n",
    "    for predict_ahead in [5, 10, 15, 30, 60, 90, 120]:\n",
    "        res = run_n_step_evaluation.remote(model_name, mlflow_run_id, predict_ahead, trial_fname)\n",
    "        tag = f'predict_ahead_{predict_ahead}'\n",
    "        results_predict_ahead[tag] = res\n",
    "        \n",
    "    results_trials[trial_fname] = results_predict_ahead    "
   ]
  },
  {
   "cell_type": "code",
   "execution_count": 25,
   "id": "9f2001e0-b7f3-4ec5-a71f-df66a188e86c",
   "metadata": {},
   "outputs": [],
   "source": [
    "data_trials = {}\n",
    "for trial in results_trials.keys():\n",
    "    data_trial = {}\n",
    "    for item in results_trials[trial].keys():\n",
    "        try:\n",
    "            res = ray.get(results_trials[trial][item])\n",
    "        except:\n",
    "            print(f'Error getting results for key:{item}')\n",
    "            res = None\n",
    "        data_trial[item] = res\n",
    "        \n",
    "    data_trials[trial] = data_trial"
   ]
  },
  {
   "cell_type": "code",
   "execution_count": 26,
   "id": "e7b8d6f4-44c3-4b06-86f3-56d3a99f9ace",
   "metadata": {},
   "outputs": [
    {
     "data": {
      "text/plain": [
       "{'2024-01-15_14-30-45__2024-01-15_17-42-00_load-gen-msg-w-spikes-10s-rate.csv': {'predict_ahead_5': {'one_step_metrics': {'r2_1Step': 0.8870121131528155,\n",
       "    'mae_1Step': 0.0258823660813078,\n",
       "    'mape_1Step': 0.08522432170198702,\n",
       "    'mse_1Step': 0.004475012245437029,\n",
       "    'pcc_1Step': 0.9451145518448122},\n",
       "   'n_step_metrics': {'r2_nStep': 0.6895359782057595,\n",
       "    'mae_nStep': 0.06172311189474314,\n",
       "    'mape_nStep': 0.20272965916074484,\n",
       "    'mse_nStep': 0.012296276513038214,\n",
       "    'pcc_nStep': 0.8637865862585355}},\n",
       "  'predict_ahead_10': {'one_step_metrics': {'r2_1Step': 0.8870121131528155,\n",
       "    'mae_1Step': 0.0258823660813078,\n",
       "    'mape_1Step': 0.08522432170198702,\n",
       "    'mse_1Step': 0.004475012245437029,\n",
       "    'pcc_1Step': 0.9451145518448122},\n",
       "   'n_step_metrics': {'r2_nStep': 0.2577110571912714,\n",
       "    'mae_nStep': 0.11174644916209579,\n",
       "    'mape_nStep': 0.35894422513627156,\n",
       "    'mse_nStep': 0.029399187836960047,\n",
       "    'pcc_nStep': 0.708924917767697}},\n",
       "  'predict_ahead_15': {'one_step_metrics': {'r2_1Step': 0.8870121131528155,\n",
       "    'mae_1Step': 0.0258823660813078,\n",
       "    'mape_1Step': 0.08522432170198702,\n",
       "    'mse_1Step': 0.004475012245437029,\n",
       "    'pcc_1Step': 0.9451145518448122},\n",
       "   'n_step_metrics': {'r2_nStep': 0.17321474363061917,\n",
       "    'mae_nStep': 0.127979035174671,\n",
       "    'mape_nStep': 0.4154511297310862,\n",
       "    'mse_nStep': 0.03274575930076318,\n",
       "    'pcc_nStep': 0.7303088798939327}},\n",
       "  'predict_ahead_30': {'one_step_metrics': {'r2_1Step': 0.8870121131528155,\n",
       "    'mae_1Step': 0.0258823660813078,\n",
       "    'mape_1Step': 0.08522432170198702,\n",
       "    'mse_1Step': 0.004475012245437029,\n",
       "    'pcc_1Step': 0.9451145518448122},\n",
       "   'n_step_metrics': {'r2_nStep': -1.0440325718046957,\n",
       "    'mae_nStep': 0.2195723537672103,\n",
       "    'mape_nStep': 0.7259529554564339,\n",
       "    'mse_nStep': 0.08095620729034002,\n",
       "    'pcc_nStep': 0.45825795038168515}},\n",
       "  'predict_ahead_60': {'one_step_metrics': {'r2_1Step': 0.8870121131528155,\n",
       "    'mae_1Step': 0.0258823660813078,\n",
       "    'mape_1Step': 0.08522432170198702,\n",
       "    'mse_1Step': 0.004475012245437029,\n",
       "    'pcc_1Step': 0.9451145518448122},\n",
       "   'n_step_metrics': {'r2_nStep': -1.8205510568431538,\n",
       "    'mae_nStep': 0.2704752197143669,\n",
       "    'mape_nStep': 0.8620500178866918,\n",
       "    'mse_nStep': 0.1117110946178208,\n",
       "    'pcc_nStep': 0.22430686321701365}},\n",
       "  'predict_ahead_90': {'one_step_metrics': {'r2_1Step': 0.8870121131528155,\n",
       "    'mae_1Step': 0.0258823660813078,\n",
       "    'mape_1Step': 0.08522432170198702,\n",
       "    'mse_1Step': 0.004475012245437029,\n",
       "    'pcc_1Step': 0.9451145518448122},\n",
       "   'n_step_metrics': {'r2_nStep': -2.0160021639779004,\n",
       "    'mae_nStep': 0.2799306632338372,\n",
       "    'mape_nStep': 0.8760835010597386,\n",
       "    'mse_nStep': 0.11945215538299087,\n",
       "    'pcc_nStep': 0.16869683763706608}},\n",
       "  'predict_ahead_120': {'one_step_metrics': {'r2_1Step': 0.8870121131528155,\n",
       "    'mae_1Step': 0.0258823660813078,\n",
       "    'mape_1Step': 0.08522432170198702,\n",
       "    'mse_1Step': 0.004475012245437029,\n",
       "    'pcc_1Step': 0.9451145518448122},\n",
       "   'n_step_metrics': {'r2_nStep': -2.2747371194838095,\n",
       "    'mae_nStep': 0.2969666003971674,\n",
       "    'mape_nStep': 0.924198310449203,\n",
       "    'mse_nStep': 0.12969964408748821,\n",
       "    'pcc_nStep': 0.11632513128699214}}},\n",
       " '2024-01-15_17-46-15__2024-01-15_19-39-45_load-gen-msg-w-spikes-10s-rate.csv': {'predict_ahead_5': {'one_step_metrics': {'r2_1Step': 0.8870121131528155,\n",
       "    'mae_1Step': 0.0258823660813078,\n",
       "    'mape_1Step': 0.08522432170198702,\n",
       "    'mse_1Step': 0.004475012245437029,\n",
       "    'pcc_1Step': 0.9451145518448122},\n",
       "   'n_step_metrics': {'r2_nStep': 0.6895359782057595,\n",
       "    'mae_nStep': 0.06172311189474314,\n",
       "    'mape_nStep': 0.20272965916074484,\n",
       "    'mse_nStep': 0.012296276513038214,\n",
       "    'pcc_nStep': 0.8637865862585355}},\n",
       "  'predict_ahead_10': {'one_step_metrics': {'r2_1Step': 0.8870121131528155,\n",
       "    'mae_1Step': 0.0258823660813078,\n",
       "    'mape_1Step': 0.08522432170198702,\n",
       "    'mse_1Step': 0.004475012245437029,\n",
       "    'pcc_1Step': 0.9451145518448122},\n",
       "   'n_step_metrics': {'r2_nStep': 0.2577110571912714,\n",
       "    'mae_nStep': 0.11174644916209579,\n",
       "    'mape_nStep': 0.35894422513627156,\n",
       "    'mse_nStep': 0.029399187836960047,\n",
       "    'pcc_nStep': 0.708924917767697}},\n",
       "  'predict_ahead_15': {'one_step_metrics': {'r2_1Step': 0.8870121131528155,\n",
       "    'mae_1Step': 0.0258823660813078,\n",
       "    'mape_1Step': 0.08522432170198702,\n",
       "    'mse_1Step': 0.004475012245437029,\n",
       "    'pcc_1Step': 0.9451145518448122},\n",
       "   'n_step_metrics': {'r2_nStep': 0.17321474363061917,\n",
       "    'mae_nStep': 0.127979035174671,\n",
       "    'mape_nStep': 0.4154511297310862,\n",
       "    'mse_nStep': 0.03274575930076318,\n",
       "    'pcc_nStep': 0.7303088798939327}},\n",
       "  'predict_ahead_30': {'one_step_metrics': {'r2_1Step': 0.8870121131528155,\n",
       "    'mae_1Step': 0.0258823660813078,\n",
       "    'mape_1Step': 0.08522432170198702,\n",
       "    'mse_1Step': 0.004475012245437029,\n",
       "    'pcc_1Step': 0.9451145518448122},\n",
       "   'n_step_metrics': {'r2_nStep': -1.0440325718046957,\n",
       "    'mae_nStep': 0.2195723537672103,\n",
       "    'mape_nStep': 0.7259529554564339,\n",
       "    'mse_nStep': 0.08095620729034002,\n",
       "    'pcc_nStep': 0.45825795038168515}},\n",
       "  'predict_ahead_60': {'one_step_metrics': {'r2_1Step': 0.8870121131528155,\n",
       "    'mae_1Step': 0.0258823660813078,\n",
       "    'mape_1Step': 0.08522432170198702,\n",
       "    'mse_1Step': 0.004475012245437029,\n",
       "    'pcc_1Step': 0.9451145518448122},\n",
       "   'n_step_metrics': {'r2_nStep': -1.8205510568431538,\n",
       "    'mae_nStep': 0.2704752197143669,\n",
       "    'mape_nStep': 0.8620500178866918,\n",
       "    'mse_nStep': 0.1117110946178208,\n",
       "    'pcc_nStep': 0.22430686321701365}},\n",
       "  'predict_ahead_90': {'one_step_metrics': {'r2_1Step': 0.8870121131528155,\n",
       "    'mae_1Step': 0.0258823660813078,\n",
       "    'mape_1Step': 0.08522432170198702,\n",
       "    'mse_1Step': 0.004475012245437029,\n",
       "    'pcc_1Step': 0.9451145518448122},\n",
       "   'n_step_metrics': {'r2_nStep': -2.0160021639779004,\n",
       "    'mae_nStep': 0.2799306632338372,\n",
       "    'mape_nStep': 0.8760835010597386,\n",
       "    'mse_nStep': 0.11945215538299087,\n",
       "    'pcc_nStep': 0.16869683763706608}},\n",
       "  'predict_ahead_120': {'one_step_metrics': {'r2_1Step': 0.8870121131528155,\n",
       "    'mae_1Step': 0.0258823660813078,\n",
       "    'mape_1Step': 0.08522432170198702,\n",
       "    'mse_1Step': 0.004475012245437029,\n",
       "    'pcc_1Step': 0.9451145518448122},\n",
       "   'n_step_metrics': {'r2_nStep': -2.2747371194838095,\n",
       "    'mae_nStep': 0.2969666003971674,\n",
       "    'mape_nStep': 0.924198310449203,\n",
       "    'mse_nStep': 0.12969964408748821,\n",
       "    'pcc_nStep': 0.11632513128699214}}}}"
      ]
     },
     "execution_count": 26,
     "metadata": {},
     "output_type": "execute_result"
    }
   ],
   "source": [
    "data_trials"
   ]
  },
  {
   "cell_type": "code",
   "execution_count": 27,
   "id": "3ea0d1ed-e2c9-4a45-85e0-c9892954ddc6",
   "metadata": {},
   "outputs": [],
   "source": [
    "ray.shutdown()"
   ]
  },
  {
   "cell_type": "code",
   "execution_count": 28,
   "id": "80b3702c-2888-4ea4-8ae9-63b383fc0094",
   "metadata": {},
   "outputs": [],
   "source": [
    "def find_best_result():\n",
    "    min_mse = 1000\n",
    "    tag = ''\n",
    "    result = {}\n",
    "    for trial in data_trials.keys():\n",
    "        crt_trial = data_trials[trial]\n",
    "        for predict_ahead in crt_trial.keys():\n",
    "            crt_one_step = crt_trial[predict_ahead]['one_step_metrics']\n",
    "            if crt_one_step['mse_1Step'] < min_mse:\n",
    "                min_mse = crt_one_step['mse_1Step']\n",
    "                tag = str(predict_ahead) + '-' + str(trial)\n",
    "                result = crt_trial[predict_ahead]\n",
    "\n",
    "    return result, tag\n"
   ]
  },
  {
   "cell_type": "code",
   "execution_count": 29,
   "id": "d2371e4d-5266-4fad-ad01-8894f26992d7",
   "metadata": {},
   "outputs": [
    {
     "data": {
      "text/plain": [
       "({'one_step_metrics': {'r2_1Step': 0.8870121131528155,\n",
       "   'mae_1Step': 0.0258823660813078,\n",
       "   'mape_1Step': 0.08522432170198702,\n",
       "   'mse_1Step': 0.004475012245437029,\n",
       "   'pcc_1Step': 0.9451145518448122},\n",
       "  'n_step_metrics': {'r2_nStep': 0.6895359782057595,\n",
       "   'mae_nStep': 0.06172311189474314,\n",
       "   'mape_nStep': 0.20272965916074484,\n",
       "   'mse_nStep': 0.012296276513038214,\n",
       "   'pcc_nStep': 0.8637865862585355}},\n",
       " 'predict_ahead_5-2024-01-15_14-30-45__2024-01-15_17-42-00_load-gen-msg-w-spikes-10s-rate.csv')"
      ]
     },
     "execution_count": 29,
     "metadata": {},
     "output_type": "execute_result"
    }
   ],
   "source": [
    "find_best_result()"
   ]
  },
  {
   "cell_type": "code",
   "execution_count": null,
   "id": "9a4a785d-a536-4232-9ef5-c3daf940e666",
   "metadata": {},
   "outputs": [],
   "source": []
  }
 ],
 "metadata": {
  "kernelspec": {
   "display_name": "TensorFlow-Py310",
   "language": "python",
   "name": "tf-python310"
  },
  "language_info": {
   "codemirror_mode": {
    "name": "ipython",
    "version": 3
   },
   "file_extension": ".py",
   "mimetype": "text/x-python",
   "name": "python",
   "nbconvert_exporter": "python",
   "pygments_lexer": "ipython3",
   "version": "3.10.13"
  }
 },
 "nbformat": 4,
 "nbformat_minor": 5
}
