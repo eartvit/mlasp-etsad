{
 "cells": [
  {
   "cell_type": "markdown",
   "id": "6533a91e-99ee-426b-bd3b-4ca9578f52a6",
   "metadata": {},
   "source": [
    "### Using the model from the experiment that provided the best MSE value\n",
    "Look up the results in MLFlow for the best experiment and retrieve model name and MLFlow run_id, then fill them in the appropriate cells in this notebook"
   ]
  },
  {
   "cell_type": "code",
   "execution_count": null,
   "id": "3cef26e3-ac4c-49d8-86a2-b5eeb7a2e624",
   "metadata": {},
   "outputs": [],
   "source": [
    "import os\n",
    "os.environ['TF_CPP_MIN_LOG_LEVEL']='2'\n",
    "os.environ[\"RAY_IGNORE_UNHANDLED_ERRORS\"] = \"1\"\n",
    "os.environ[\"RAY_memory_monitor_refresh_ms\"] = \"0\" # do not kill raylet if low on memmory\n",
    "os.environ[\"RAY_TASK_MAX_RETRIES\"] = \"2\""
   ]
  },
  {
   "cell_type": "code",
   "execution_count": null,
   "id": "8c118dda-5cb7-4de9-822a-cf1488e340b3",
   "metadata": {},
   "outputs": [],
   "source": [
    "import ray\n",
    "import mlflow\n",
    "import uuid"
   ]
  },
  {
   "cell_type": "code",
   "execution_count": null,
   "id": "f50c512f-7079-487c-9ebf-23b2165c3129",
   "metadata": {
    "tags": []
   },
   "outputs": [],
   "source": [
    "import tensorflow as tf\n",
    "from tensorflow.keras.models import Model, Sequential\n",
    "from tensorflow.keras.layers import Bidirectional,LSTM, Dense, Dropout, Flatten, Input\n",
    "from tensorflow.keras.optimizers import Adam\n",
    "from tensorflow.keras.callbacks import ReduceLROnPlateau, ModelCheckpoint, EarlyStopping\n",
    "from tensorflow.keras.regularizers import l1, l2, l1_l2"
   ]
  },
  {
   "cell_type": "code",
   "execution_count": null,
   "id": "e333bb1f-7844-42f7-8afc-9da4502ec6e4",
   "metadata": {},
   "outputs": [],
   "source": [
    "import numpy as np\n",
    "import pandas as pd"
   ]
  },
  {
   "cell_type": "code",
   "execution_count": null,
   "id": "33d3f7ed-8a14-4112-a333-f36d24bc0812",
   "metadata": {
    "tags": []
   },
   "outputs": [],
   "source": [
    "import pytz, datetime, time\n",
    "from datetime import timedelta, datetime\n",
    "local_tz = pytz.timezone('America/Toronto') # Set local timezone"
   ]
  },
  {
   "cell_type": "code",
   "execution_count": null,
   "id": "72e322e9-2b15-448e-829f-fdbe5abb7da8",
   "metadata": {
    "tags": []
   },
   "outputs": [],
   "source": [
    "import matplotlib\n",
    "import matplotlib.dates as md\n",
    "import matplotlib.pyplot as plt\n",
    "%matplotlib inline\n",
    "matplotlib.rcParams['timezone'] = 'America/Toronto'"
   ]
  },
  {
   "cell_type": "code",
   "execution_count": null,
   "id": "390bd377-bc86-4dd0-8a61-3757b9d41886",
   "metadata": {
    "tags": []
   },
   "outputs": [],
   "source": [
    "from keras.models import load_model, save_model\n",
    "from sklearn.metrics import r2_score, mean_absolute_percentage_error, mean_squared_error, mean_absolute_error"
   ]
  },
  {
   "cell_type": "code",
   "execution_count": null,
   "id": "39d463ca-7868-4f8f-8da4-7ffb8f6a422a",
   "metadata": {
    "tags": []
   },
   "outputs": [],
   "source": [
    "%run '../lib/utils_anomaly_detection.ipynb'"
   ]
  },
  {
   "cell_type": "code",
   "execution_count": null,
   "id": "93067f79-f78e-4b6c-9951-c93b84d7f9ea",
   "metadata": {
    "tags": []
   },
   "outputs": [],
   "source": [
    "from pathlib import Path\n",
    "import os, sys\n",
    "\n",
    "dataFileList = !ls ../../data/rq2-valid/*msg-w-spikes*.csv\n",
    "dataLatencyFileList =  !ls ../../data/rq2-valid/*avg-latency*.csv"
   ]
  },
  {
   "cell_type": "code",
   "execution_count": null,
   "id": "72a0d2a3-5e74-42a1-95b7-9e6cf3601721",
   "metadata": {
    "tags": []
   },
   "outputs": [],
   "source": [
    "pd.set_option('display.max_rows', 5000)\n",
    "pd.pandas.set_option('display.max_columns', None)"
   ]
  },
  {
   "cell_type": "code",
   "execution_count": null,
   "id": "098a64bf-d03e-43df-bc4c-397fe8da5235",
   "metadata": {},
   "outputs": [],
   "source": [
    "MLFLOW_URI='http://localhost:8080/'"
   ]
  },
  {
   "cell_type": "code",
   "execution_count": null,
   "id": "90a4cb68-9117-44eb-9da7-479fc1afb9e5",
   "metadata": {},
   "outputs": [],
   "source": [
    "mlflow_run_id = 'de58401dd5a546359785695d5f867c66'"
   ]
  },
  {
   "cell_type": "code",
   "execution_count": null,
   "id": "b3a7ed92-3355-4647-9673-273f466fce81",
   "metadata": {},
   "outputs": [],
   "source": [
    "model_name = 'CNN_valueStdScaled-T_15-LY_1-DLY_1-NN_32-LR_0.001-epochs_200-d056827f705b4f54aeaa6f4f15beddce.keras'"
   ]
  },
  {
   "cell_type": "code",
   "execution_count": null,
   "id": "9cca1451-03f0-48ec-9832-d47022dd04ca",
   "metadata": {},
   "outputs": [],
   "source": [
    "mlflow.set_tracking_uri(MLFLOW_URI)\n",
    "mlflow.set_registry_uri(MLFLOW_URI)"
   ]
  },
  {
   "cell_type": "code",
   "execution_count": null,
   "id": "7d3a7fd9-1de8-4d24-933c-975f4b22d97d",
   "metadata": {},
   "outputs": [],
   "source": [
    "#model = mlflow.tensorflow.load_model(f'models:/{model_name}/1')\n",
    "\n",
    "model_params = mlflow.get_run(mlflow_run_id).to_dictionary()['data']['params']"
   ]
  },
  {
   "cell_type": "code",
   "execution_count": null,
   "id": "978c19f4-c6d1-4056-89d4-bf7383a9c464",
   "metadata": {
    "tags": []
   },
   "outputs": [],
   "source": [
    "modelTypeName = \"CNN_valueStdScaled\""
   ]
  },
  {
   "cell_type": "code",
   "execution_count": null,
   "id": "c1e19715-66e2-4ee4-b321-1399c4bccdf1",
   "metadata": {
    "tags": []
   },
   "outputs": [],
   "source": [
    "dataColumnName = 'valueStdScaled'"
   ]
  },
  {
   "cell_type": "code",
   "execution_count": null,
   "id": "d6d6c612-07bb-444e-a72e-4528c9a9220f",
   "metadata": {},
   "outputs": [],
   "source": [
    "model_params"
   ]
  },
  {
   "cell_type": "code",
   "execution_count": null,
   "id": "9b39c914-48d7-4bd3-969e-745fdf6de5cb",
   "metadata": {},
   "outputs": [],
   "source": [
    "T = int(model_params['time_window'])"
   ]
  },
  {
   "cell_type": "code",
   "execution_count": null,
   "id": "7377f661-4af6-4d83-bdb2-eff23a2592a9",
   "metadata": {},
   "outputs": [],
   "source": [
    "\"\"\"\n",
    " This function uses one Tensor formatted input from the X_test dataset in order to predict ahead by a number\n",
    " of given steps. Then it readjusts by using another true value from X_test (as the nex index) before starting\n",
    " a new prediction cycle\n",
    "\"\"\"\n",
    "def generate_nsteps_forecast(x_test, nn_model, pred_ahead):\n",
    "    max_len = x_test.shape[0]\n",
    "    y_pred = []\n",
    "    last_x = x_test[0]\n",
    "    index = 0\n",
    "    while len(y_pred) < max_len:\n",
    "        sequence = 0\n",
    "        while sequence < pred_ahead:\n",
    "            try:\n",
    "                x_crt_input = last_x.reshape(1, -1, 1)\n",
    "                p_vector = nn_model.predict(x_crt_input, verbose=0)\n",
    "                p = p_vector[0,0] # 1x1 array -> scalar\n",
    "            except:\n",
    "                print(f'Prediction error for x={x_crt_input} at sequence={sequence} for start index={index} when pred_ahead={pred_ahead}')\n",
    "                print(f'Model config was:{nn_model.get_config()}')\n",
    "                p = 0\n",
    "                \n",
    "            # update the predictions list\n",
    "            y_pred.append(p)\n",
    "\n",
    "            # make the new input\n",
    "            last_x = np.roll(last_x, -1)\n",
    "            last_x[-1] = p\n",
    "            \n",
    "            # increase index for the next run\n",
    "            sequence += 1\n",
    "\n",
    "        index += sequence\n",
    "        if index < max_len:\n",
    "            last_x = x_test[index]\n",
    "            #print(f\"Arrived at index = {index} of {max_len} with value X={last_x}\")\n",
    "    \n",
    "    if len(y_pred) > max_len:\n",
    "        # predicted too much, cutoff the tail\n",
    "        y_pred = y_pred[0:max_len]\n",
    "        \n",
    "    return np.array(y_pred)"
   ]
  },
  {
   "cell_type": "code",
   "execution_count": null,
   "id": "146f12f0-2fe7-454e-8b1b-24d36e0ec818",
   "metadata": {},
   "outputs": [],
   "source": [
    "@ray.remote\n",
    "def run_n_step_evaluation(model_name, run_id, predict_ahead, trial_fname):\n",
    "    import mlflow\n",
    "    mlflow.set_tracking_uri(MLFLOW_URI)\n",
    "    mlflow.set_registry_uri(MLFLOW_URI)\n",
    "    #model_params = mlflow.get_run(mlflow_run_id).to_dictionary()['data']['params']\n",
    "    model = mlflow.tensorflow.load_model(f'models:/{model_name}/1')\n",
    "\n",
    "    n_neurons = model_params['n_layer_size']\n",
    "    learning_rate = model_params['learning_rate']\n",
    "    n_epochs = model_params['epochs']\n",
    "    model_exp = model_params['model_exp']\n",
    "    #T = model_params['time_window']\n",
    "\n",
    "    X_train, Y_train, X_test, Y_test = prepare_dataset(dataFrame[dataColumnName], T)\n",
    "\n",
    "    y_predict = model.predict(X_test, verbose=0)\n",
    "    y_pred_nsteps = generate_nsteps_forecast(X_test, model, predict_ahead)\n",
    "\n",
    "    n_step_metrics = {}\n",
    "    one_step_metrics = {}\n",
    "\n",
    "    #one-step-prediction computations\n",
    "    errors_ae = calculate_absolute_prediction_errors(Y_test, y_predict)\n",
    "    anomalies_ae = calculate_3sigma_anomalies(errors_ae)\n",
    "    errors_se = calculate_squared_prediction_errors(Y_test, y_predict)\n",
    "    anomalies_se = calculate_3sigma_anomalies(errors_se)\n",
    "    anomalies_3sigma_Y_test = calculate_3sigma_anomalies(Y_test)\n",
    "    anomalies_3sigma_y_predict = calculate_3sigma_anomalies(y_predict)\n",
    "    \n",
    "    anomalies_Y_test, z_scores_Y_test = calculate_zscore_anomalies(Y_test)\n",
    "    anomalies_y_predict, z_scores_y_predict = calculate_zscore_anomalies(y_predict)\n",
    "    anomalies_errors_ae, z_scores_errors_ae = calculate_zscore_anomalies(errors_ae)\n",
    "    anomalies_errors_se, z_scores_errors_se = calculate_zscore_anomalies(errors_se)\n",
    "    \n",
    "    anomalies_Y_test_mod, z_scores_Y_test_mod = calculate_modified_zscore_anomalies(Y_test)\n",
    "    anomalies_y_predict_mod, z_scores_y_predict_mod = calculate_modified_zscore_anomalies(y_predict)\n",
    "    anomalies_errors_ae_mod, z_scores_errors_ae_mod = calculate_modified_zscore_anomalies(errors_ae)\n",
    "    anomalies_errors_se_mod, z_scores_errors_se_mod = calculate_modified_zscore_anomalies(errors_se)\n",
    "    \n",
    "    try:\n",
    "        r2 = r2_score(Y_test, y_predict)\n",
    "    except:\n",
    "        r2 = 110\n",
    "    if np.isnan(r2):\n",
    "        r2 = 110\n",
    "\n",
    "    try:\n",
    "        mae = mean_absolute_error(Y_test, y_predict)\n",
    "    except:\n",
    "        mae = 100\n",
    "    if np.isnan(mae):\n",
    "        mae = 100\n",
    "\n",
    "    try:\n",
    "        mape = mean_absolute_percentage_error(Y_test, y_predict)\n",
    "    except:\n",
    "        mape = 100\n",
    "    if np.isnan(mape):\n",
    "        mape = 100\n",
    "\n",
    "    try:\n",
    "        mse = mean_squared_error(Y_test, y_predict)\n",
    "    except:\n",
    "        mse = 100\n",
    "    if np.isnan(mse):\n",
    "        mse = 100\n",
    "    \n",
    "    try:\n",
    "        pcc = np.corrcoef(Y_test, y_predict.flatten())[0,1]\n",
    "    except:\n",
    "        pcc = 100\n",
    "    if np.isnan(pcc):\n",
    "        pcc = 100\n",
    "\n",
    "    one_step_metrics= {\n",
    "                        'r2_1Step': r2,\n",
    "                        'mae_1Step': mae,\n",
    "                        'mape_1Step': mape,\n",
    "                        'mse_1Step': mse,\n",
    "                        'pcc_1Step': pcc\n",
    "    }\n",
    "\n",
    "    #n-step predictions computations\n",
    "    errors_ae2 = calculate_absolute_prediction_errors(Y_test, y_pred_nsteps)\n",
    "    anomalies_ae2 = calculate_3sigma_anomalies(errors_ae2)        \n",
    "    errors_se2 = calculate_squared_prediction_errors(Y_test, y_pred_nsteps)\n",
    "    anomalies_se2 = calculate_3sigma_anomalies(errors_se2)\n",
    "    anomalies_y_pred_nsteps_mod, z_scores_y_pred_nsteps_mod = calculate_modified_zscore_anomalies(y_pred_nsteps)\n",
    "    anomalies_errors_ae2_mod, z_scores_errors_ae2_mod = calculate_modified_zscore_anomalies(errors_ae2)\n",
    "    anomalies_errors_se2_mod, z_scores_errors_se2_mod = calculate_modified_zscore_anomalies(errors_se2)\n",
    "\n",
    "    try:\n",
    "        r2_nStep = r2_score(Y_test, y_pred_nsteps)\n",
    "    except:\n",
    "        r2_nStep = 100\n",
    "\n",
    "    try:\n",
    "        mae_nStep = mean_absolute_error(Y_test, y_pred_nsteps)\n",
    "    except:\n",
    "        mae_nStep = 100\n",
    "\n",
    "    try:\n",
    "        mape_nStep = mean_absolute_percentage_error(Y_test, y_pred_nsteps)\n",
    "    except:\n",
    "        mape_nStep = 100\n",
    "\n",
    "    try:\n",
    "        mse_nStep = mean_squared_error(Y_test, y_pred_nsteps)\n",
    "    except:\n",
    "        mse_nStep = 100\n",
    "\n",
    "    try:\n",
    "        pcc_nStep = np.corrcoef(Y_test, y_pred_nsteps.flatten())[0,1]\n",
    "    except:\n",
    "        pcc_nStep = 100\n",
    "\n",
    "    crt_step = f'predict_ahead_{predict_ahead}'\n",
    "    n_step_metrics = {\n",
    "        'r2_nStep': r2_nStep,\n",
    "        'mae_nStep': mae_nStep,\n",
    "        'mape_nStep': mape_nStep,\n",
    "        'mse_nStep': mse_nStep,\n",
    "        'pcc_nStep': pcc_nStep\n",
    "    }\n",
    "    anomalies_3sigma_y_pred_nsteps = calculate_3sigma_anomalies(y_pred_nsteps)\n",
    "    anomalies_y_pred_nsteps, z_scores_y_pred_nsteps = calculate_zscore_anomalies(y_pred_nsteps)\n",
    "    anomalies_errors_ae2, z_scores_errors_ae2 = calculate_zscore_anomalies(errors_ae2)\n",
    "    anomalies_errors_se2, z_scores_errors_se2 = calculate_zscore_anomalies(errors_se2)\n",
    "\n",
    "    result = {\n",
    "        'one_step_metrics' : one_step_metrics,\n",
    "        'n_step_metrics' : n_step_metrics\n",
    "    }\n",
    "    \n",
    "    with mlflow.start_run(run_id=run_id, nested=True):\n",
    "        fig = plt.figure(figsize=(20,15))\n",
    "        title = f'Anomalies Y_test for {trial_fname}'\n",
    "        plt.title(title)\n",
    "        plt.plot(Y_test,label=\"Original Data\", alpha=0.6, c='gray')\n",
    "        plt.scatter(np.where(anomalies_Y_test==True)[0], Y_test[np.where(anomalies_Y_test==1)], \n",
    "                    alpha=0.8, color='green', s=250, label=\"Z-Score Anomalies\")\n",
    "        plt.scatter(np.where(anomalies_3sigma_Y_test==True)[0], Y_test[np.where(anomalies_3sigma_Y_test==1)], \n",
    "                    alpha=0.8, color='red', s=150, label=\"3-Sigma Anomalies\")\n",
    "        plt.scatter(np.where(anomalies_Y_test_mod==True)[0], Y_test[np.where(anomalies_Y_test_mod==1)], \n",
    "                    alpha=0.8, color='blue', s=100, label=\"Modified Z-Score Anomalies\")    \n",
    "        plt.legend()\n",
    "        figName = f\"Y_test_anomalies-T_{T}-fname-{trial_fname}.png\"\n",
    "        mlflow.log_figure(fig, figName)\n",
    "        fig.clf()\n",
    "        plt.close()\n",
    "\n",
    "        fig = plt.figure(figsize=(20,15))\n",
    "        title = \"Predict Anomalies T=\" + str(T) + \" with predict 1 on \"+ str(model_exp) + \"for \" + str(trial_fname)\n",
    "        plt.title(title)\n",
    "        plt.plot(y_predict,label=\"Predict 1-step Forecast\", alpha=0.6, c='red', linewidth=3)\n",
    "        plt.plot(Y_test,label=\"Original Data\", alpha=0.6, c='black')\n",
    "        plt.scatter(np.where(anomalies_ae==True), y_predict[np.where(anomalies_ae==True)], \n",
    "                    alpha=0.8, color='green', s=350, label=\"3-Sigma Anomalies AE\")\n",
    "        plt.scatter(np.where(anomalies_se==True), y_predict[np.where(anomalies_se==True)], \n",
    "                    alpha=0.8, color='magenta', s=300, label = \"3-Sigma Anomalies SE\")\n",
    "        plt.scatter(np.where(anomalies_errors_ae==True), y_predict[np.where(anomalies_errors_ae==True)], \n",
    "                    alpha=0.8, color='blue', s=250, label = \"Z-score Anomalies AE\")\n",
    "        plt.scatter(np.where(anomalies_errors_se==True), y_predict[np.where(anomalies_errors_se==True)], \n",
    "                    alpha=0.8, color='cyan', s=200, label = \"Z-score Anomalies SE\")\n",
    "        plt.scatter(np.where(anomalies_errors_ae_mod==True), y_predict[np.where(anomalies_errors_ae_mod==True)], \n",
    "                    alpha=0.8, color='lightgreen', s=150, label = \"Modified Z-score Anomalies AE\")\n",
    "        plt.scatter(np.where(anomalies_errors_se_mod==True), y_predict[np.where(anomalies_errors_se_mod==True)], \n",
    "                    alpha=0.8, color='orange', s=50, label = \"Modified Z-score Anomalies SE\")    \n",
    "        plt.legend()    \n",
    "        figName = f\"Y_predict-1-step-anomalies-T_{T}-fname-{trial_fname}.png\"\n",
    "        mlflow.log_figure(fig, figName)\n",
    "        fig.clf()\n",
    "        plt.close()\n",
    "\n",
    "        fig = plt.figure(figsize=(20,15))\n",
    "        title = \"Compare forecasts T=\" + str(T) + \" predict_ahead=\" + str(predict_ahead) + \" with predict 1\" + \\\n",
    "                 \"for \" + str(trial_fname)\n",
    "        plt.title(title)\n",
    "        plt.plot(Y_test,label=\"Original Data\", alpha=0.6, c='red',linewidth=2)\n",
    "        plt.plot(y_predict,label=\"Predicted Data 1-step\", alpha=0.6, c='black', linewidth=2)\n",
    "        plt.plot(y_pred_nsteps,label=\"Predicted Data \" + str(predict_ahead) + \"-steps\", alpha=0.6, c='blue', linewidth=2)\n",
    "        plt.legend()\n",
    "        figName = f\"compare-forecasts-1_{predict_ahead}-fname-{trial_fname}.png\"\n",
    "        mlflow.log_figure(fig, figName)\n",
    "        fig.clf()\n",
    "        plt.close()\n",
    "        \n",
    "        fig = plt.figure(figsize=(20,15)) \n",
    "        title = \"Predict Anomalies T=\" + str(T) + \" with predict \" + str(predict_ahead) + \" on \" + str(model_exp) + \"for \" + str(trial_fname)\n",
    "        plt.title(title)\n",
    "        plt.plot(y_pred_nsteps,label=\"Predict \" + str(predict_ahead) + \"-step Forecast\", alpha=0.6, c='red', linewidth=3)\n",
    "        plt.plot(Y_test,label=\"Original Data\", alpha=0.6, c='black')\n",
    "        plt.scatter(np.where(anomalies_ae2==True), y_pred_nsteps[np.where(anomalies_ae2==True)], \n",
    "                    alpha=0.8, color='green', s=350, label=\"Anomalies AE\")\n",
    "        plt.scatter(np.where(anomalies_se2==True), y_pred_nsteps[np.where(anomalies_se2==True)], \n",
    "                    alpha=0.8, color='magenta', s=300, label = \"Anomalies SE\")\n",
    "        plt.scatter(np.where(anomalies_errors_ae2==True), y_pred_nsteps[np.where(anomalies_errors_ae2==True)], \n",
    "                    alpha=0.8, color='blue', s=250, label = \"Z-score Anomalies AE\")\n",
    "        plt.scatter(np.where(anomalies_errors_se2==True), y_pred_nsteps[np.where(anomalies_errors_se2==True)], \n",
    "                    alpha=0.8, color='cyan', s=200, label = \"Z-score Anomalies SE\")\n",
    "        plt.scatter(np.where(anomalies_errors_ae2_mod==True), y_pred_nsteps[np.where(anomalies_errors_ae2_mod==True)], \n",
    "                    alpha=0.8, color='lime', s=150, label = \"Modified Z-score Anomalies AE\")\n",
    "        plt.scatter(np.where(anomalies_errors_se2_mod==True), y_pred_nsteps[np.where(anomalies_errors_se2_mod==True)], \n",
    "                    alpha=0.8, color='orange', s=50, label = \"Modified Z-score Anomalies SE\")        \n",
    "        plt.legend();    \n",
    "        figName = f\"Y-predict-anomalies-step-{predict_ahead}-with-T_{T}-fname-{trial_fname}.png\"\n",
    "        mlflow.log_figure(fig, figName)\n",
    "        fig.clf()\n",
    "        plt.close()    \n",
    "        \n",
    "        fname = f'Results-trial-{trial_fname}-{predict_ahead}-step-ahead.json'\n",
    "        mlflow.log_dict(result, fname)        \n",
    "    \n",
    "    return result"
   ]
  },
  {
   "cell_type": "code",
   "execution_count": null,
   "id": "2e086dd6-4488-494c-aef0-9873e5d17c8c",
   "metadata": {},
   "outputs": [],
   "source": [
    "import os"
   ]
  },
  {
   "cell_type": "code",
   "execution_count": null,
   "id": "56c4957e-ab13-4ec4-9b8e-3f8b20c3ab67",
   "metadata": {},
   "outputs": [],
   "source": [
    "ray.shutdown()\n",
    "ray.init()"
   ]
  },
  {
   "cell_type": "code",
   "execution_count": null,
   "id": "4d38f8cc-ee67-4ab2-b395-fe2659e04f11",
   "metadata": {
    "tags": []
   },
   "outputs": [],
   "source": [
    "results_trials = {}\n",
    "for filePos in range(len(dataFileList)):\n",
    "    \n",
    "    data = pd.read_csv(dataFileList[filePos], index_col='EventDateTime', parse_dates=['EventDateTime'])\n",
    "    dataLatency = pd.read_csv(dataLatencyFileList[filePos], index_col='EventDateTime', parse_dates=['EventDateTime'])\n",
    "    print(f'Processing files at position {filePos} in list')\n",
    "    %run '../lib/prepareDataSet.ipynb'\n",
    "\n",
    "    trial_fname = os.path.basename(dataFileList[filePos])\n",
    "    results_predict_ahead = {}\n",
    "    for predict_ahead in [5, 10, 15, 30, 60, 90, 120]:\n",
    "        res = run_n_step_evaluation.remote(model_name, mlflow_run_id, predict_ahead, trial_fname)\n",
    "        tag = f'predict_ahead_{predict_ahead}'\n",
    "        results_predict_ahead[tag] = res\n",
    "        \n",
    "    results_trials[trial_fname] = results_predict_ahead    "
   ]
  },
  {
   "cell_type": "code",
   "execution_count": null,
   "id": "9f2001e0-b7f3-4ec5-a71f-df66a188e86c",
   "metadata": {},
   "outputs": [],
   "source": [
    "data_trials = {}\n",
    "for trial in results_trials.keys():\n",
    "    data_trial = {}\n",
    "    for item in results_trials[trial].keys():\n",
    "        try:\n",
    "            res = ray.get(results_trials[trial][item])\n",
    "        except:\n",
    "            print(f'Error getting results for key:{item}')\n",
    "            res = None\n",
    "        data_trial[item] = res\n",
    "        \n",
    "    data_trials[trial] = data_trial"
   ]
  },
  {
   "cell_type": "code",
   "execution_count": null,
   "id": "e7b8d6f4-44c3-4b06-86f3-56d3a99f9ace",
   "metadata": {
    "scrolled": true
   },
   "outputs": [],
   "source": [
    "data_trials"
   ]
  },
  {
   "cell_type": "code",
   "execution_count": null,
   "id": "3ea0d1ed-e2c9-4a45-85e0-c9892954ddc6",
   "metadata": {},
   "outputs": [],
   "source": [
    "ray.shutdown()"
   ]
  },
  {
   "cell_type": "code",
   "execution_count": null,
   "id": "80b3702c-2888-4ea4-8ae9-63b383fc0094",
   "metadata": {},
   "outputs": [],
   "source": [
    "def find_best_result():\n",
    "    min_mse = 1000\n",
    "    tag = ''\n",
    "    result = {}\n",
    "    for trial in data_trials.keys():\n",
    "        crt_trial = data_trials[trial]\n",
    "        for predict_ahead in crt_trial.keys():\n",
    "            crt_one_step = crt_trial[predict_ahead]['one_step_metrics']\n",
    "            if crt_one_step['mse_1Step'] < min_mse:\n",
    "                min_mse = crt_one_step['mse_1Step']\n",
    "                tag = str(predict_ahead) + '-' + str(trial)\n",
    "                result = crt_trial[predict_ahead]\n",
    "\n",
    "    return result, tag\n",
    "                "
   ]
  },
  {
   "cell_type": "code",
   "execution_count": null,
   "id": "d1602176-836d-4e82-83cb-e93b473b3ce0",
   "metadata": {},
   "outputs": [],
   "source": [
    "find_best_result()"
   ]
  },
  {
   "cell_type": "code",
   "execution_count": null,
   "id": "1fa7a062-239d-4ff2-bdac-9f4d217aab2d",
   "metadata": {},
   "outputs": [],
   "source": []
  }
 ],
 "metadata": {
  "kernelspec": {
   "display_name": "TensorFlow-Py310",
   "language": "python",
   "name": "tf-python310"
  },
  "language_info": {
   "codemirror_mode": {
    "name": "ipython",
    "version": 3
   },
   "file_extension": ".py",
   "mimetype": "text/x-python",
   "name": "python",
   "nbconvert_exporter": "python",
   "pygments_lexer": "ipython3",
   "version": "3.10.13"
  }
 },
 "nbformat": 4,
 "nbformat_minor": 5
}
