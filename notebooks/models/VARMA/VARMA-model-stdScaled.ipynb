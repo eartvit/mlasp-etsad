{
 "cells": [
  {
   "cell_type": "code",
   "execution_count": null,
   "id": "83134b89-3995-4737-b1b1-c1811888913c",
   "metadata": {},
   "outputs": [],
   "source": [
    "dataColumnName = 'valueStdScaled'\n",
    "model_exp = 'VARMA'"
   ]
  },
  {
   "cell_type": "code",
   "execution_count": null,
   "id": "e232b298",
   "metadata": {
    "tags": []
   },
   "outputs": [],
   "source": [
    "if 'T' not in globals():\n",
    "    T = 15\n",
    "if 'predict_ahead' not in globals():\n",
    "    predict_ahead = 60"
   ]
  },
  {
   "cell_type": "code",
   "execution_count": null,
   "id": "c5dc9c1b-3229-4a34-bd77-3c5fa3c127ec",
   "metadata": {
    "tags": []
   },
   "outputs": [],
   "source": [
    "%run 'prepareDataSet.ipynb'"
   ]
  },
  {
   "cell_type": "code",
   "execution_count": null,
   "id": "a661c817-1c34-4116-949d-7c66f786cdef",
   "metadata": {},
   "outputs": [],
   "source": [
    "%run 'utils_anomaly_detection.ipynb'"
   ]
  },
  {
   "cell_type": "code",
   "execution_count": null,
   "id": "1cbdec01-556e-4bf1-8192-044ee1446821",
   "metadata": {},
   "outputs": [],
   "source": [
    "import matplotlib.pyplot as plt\n",
    "#%matplotlib notebook\n",
    "%matplotlib inline"
   ]
  },
  {
   "cell_type": "code",
   "execution_count": null,
   "id": "994e0330-7271-4fd0-a29a-3409a62a1b7a",
   "metadata": {
    "tags": []
   },
   "outputs": [],
   "source": [
    "import statsmodels.api as sm\n",
    "from itertools import product"
   ]
  },
  {
   "cell_type": "code",
   "execution_count": null,
   "id": "06e1e712-5461-4145-8cb6-b11b4bbc1763",
   "metadata": {
    "tags": []
   },
   "outputs": [],
   "source": [
    "#from statsmodels.graphics.tsaplots import plot_acf, plot_pacf, plot_predict\n",
    "#from statsmodels.tsa.statespace.varmax import VARMAX\n",
    "from statsmodels.tsa.api import VAR\n",
    "from sklearn.metrics import r2_score, mean_absolute_percentage_error, mean_squared_error, mean_absolute_error"
   ]
  },
  {
   "cell_type": "code",
   "execution_count": null,
   "id": "d8549185-076c-4793-ac1e-593754644d6e",
   "metadata": {},
   "outputs": [],
   "source": [
    "X_test = dataFrame_test.to_frame()"
   ]
  },
  {
   "cell_type": "code",
   "execution_count": null,
   "id": "1f284028-25e5-46cb-8f0a-8e66f05a69e6",
   "metadata": {
    "tags": []
   },
   "outputs": [],
   "source": [
    "X_test['TimeLatencyStdScaled'] = dataFrameLatency_test"
   ]
  },
  {
   "cell_type": "code",
   "execution_count": null,
   "id": "14c86ad1-7662-4d72-8a18-603a66bb91e7",
   "metadata": {
    "tags": []
   },
   "outputs": [],
   "source": [
    "X_test.head()"
   ]
  },
  {
   "cell_type": "code",
   "execution_count": null,
   "id": "e97ef8d5",
   "metadata": {
    "tags": []
   },
   "outputs": [],
   "source": [
    "X_test.shape"
   ]
  },
  {
   "cell_type": "code",
   "execution_count": null,
   "id": "f38e6927",
   "metadata": {
    "tags": []
   },
   "outputs": [],
   "source": [
    "X_test_2 = X_test.copy()"
   ]
  },
  {
   "cell_type": "code",
   "execution_count": null,
   "id": "1e19855f-acbd-4371-91d2-eb1b5ad58e0c",
   "metadata": {
    "tags": []
   },
   "outputs": [],
   "source": [
    "cols = ['valueStdScaled', 'TimeLatencyStdScaled']"
   ]
  },
  {
   "cell_type": "code",
   "execution_count": null,
   "id": "7fae1ece-2683-43b6-866b-a13cccf01f7a",
   "metadata": {
    "tags": []
   },
   "outputs": [],
   "source": [
    "X_train = dataFrame_train.to_frame()\n",
    "X_train['TimeLatencyStdScaled'] = dataFrameLatency_train"
   ]
  },
  {
   "cell_type": "code",
   "execution_count": null,
   "id": "639cc24a",
   "metadata": {
    "tags": []
   },
   "outputs": [],
   "source": [
    "X_train.head()"
   ]
  },
  {
   "cell_type": "code",
   "execution_count": null,
   "id": "db2bfc42",
   "metadata": {
    "tags": []
   },
   "outputs": [],
   "source": [
    "# VAR requires 2 time series. We have both response time and throughput available\n",
    "# We also set the maxlags with the same value we use for the neural nets, namely T. \n",
    "# This means it will use the previous T values to predicts the next one.\n",
    "# This is useful as we always have the real value (the T+1th value) so we can compare it with the prediction"
   ]
  },
  {
   "cell_type": "code",
   "execution_count": null,
   "id": "7cbef3e8-8fc0-4a11-b534-23715bc342eb",
   "metadata": {
    "tags": []
   },
   "outputs": [],
   "source": [
    "%%time\n",
    "model_VAR = VAR(X_train)"
   ]
  },
  {
   "cell_type": "code",
   "execution_count": null,
   "id": "4a9b8dfc",
   "metadata": {
    "tags": []
   },
   "outputs": [],
   "source": [
    "lag_order_results = model_VAR.select_order(maxlags=T)\n",
    "lag_order_results"
   ]
  },
  {
   "cell_type": "code",
   "execution_count": null,
   "id": "38517932",
   "metadata": {
    "tags": []
   },
   "outputs": [],
   "source": [
    "lag_order_results.selected_orders"
   ]
  },
  {
   "cell_type": "code",
   "execution_count": null,
   "id": "f85b5645",
   "metadata": {
    "tags": []
   },
   "outputs": [],
   "source": [
    "results_VAR = model_VAR.fit(maxlags=T)"
   ]
  },
  {
   "cell_type": "code",
   "execution_count": null,
   "id": "0bbc3b8f",
   "metadata": {
    "tags": []
   },
   "outputs": [],
   "source": [
    "lag_order = results_VAR.k_ar\n",
    "lag_order # ensuring the maxlags is unchanged after training"
   ]
  },
  {
   "cell_type": "code",
   "execution_count": null,
   "id": "379117b8-c311-48ea-8550-0a17c179cc21",
   "metadata": {
    "tags": []
   },
   "outputs": [],
   "source": [
    "# This function generates the forecasts values for the test dataset, one step at a time\n",
    "def generate_forecasts(x_test, model_VAR, T):\n",
    "    forecasts_VAR = []\n",
    "    for i in range(x_test.shape[0]-T): # we can't go past T and we start predicting the T+1 value\n",
    "        prior = x_test[i:i+T][['valueStdScaled','TimeLatencyStdScaled']].to_numpy()\n",
    "        fcast_VAR = model_VAR.forecast(prior, 1)\n",
    "        forecasts_VAR.append(fcast_VAR)\n",
    "        i += 1\n",
    "    \n",
    "    return forecasts_VAR"
   ]
  },
  {
   "cell_type": "code",
   "execution_count": null,
   "id": "0c8394b7",
   "metadata": {
    "tags": []
   },
   "outputs": [],
   "source": [
    "# This function generates the forecasts values for the test dataset\n",
    "# It predicts predict_ahead steps before getting a new ground truth value and predicts the next batch\n",
    "def generate_nsteps_forecasts(x_test, model_VAR, T, predict_ahead):    \n",
    "    y_predict = []\n",
    "    index = 0\n",
    "    while (index < x_test.shape[0]-T):\n",
    "    #while len(y_predict) < x_test.shape[0]-T:\n",
    "        #print(f'Selecting input from index {index} to {index+T}')\n",
    "        last_x = x_test[index: index+T]\n",
    "        p = model_VAR.forecast(last_x, predict_ahead)\n",
    "        y_predict.append(p)\n",
    "        index += predict_ahead\n",
    "\n",
    "    y_pred_conc = y_predict[0]\n",
    "    i=1\n",
    "    while i < len(y_predict):\n",
    "        y_pred_conc = np.concatenate((y_pred_conc, y_predict[i]), axis=0)\n",
    "        i+=1\n",
    "\n",
    "    return y_pred_conc"
   ]
  },
  {
   "cell_type": "code",
   "execution_count": null,
   "id": "1a648108-0b4b-4e9d-8792-8a8c4418648f",
   "metadata": {},
   "outputs": [],
   "source": [
    "type(X_test_2)"
   ]
  },
  {
   "cell_type": "code",
   "execution_count": null,
   "id": "912c2c48-f64e-4e0c-8382-62eb3621e749",
   "metadata": {
    "tags": []
   },
   "outputs": [],
   "source": [
    "X_test_valueStdScaled2 = []\n",
    "Y_test_valueStdScaled2 = []\n",
    "\n",
    "(X_test_valueStdScaled2, Y_test_valueStdScaled2) = formatData(X_test_valueStdScaled2, Y_test_valueStdScaled2, \n",
    "                                                          X_test_2, T, 2)"
   ]
  },
  {
   "cell_type": "code",
   "execution_count": null,
   "id": "81e7f554-6398-4b0d-9848-b2bbcbc6d246",
   "metadata": {
    "tags": []
   },
   "outputs": [],
   "source": [
    "Y_test_valueStdScaled2.shape, X_test_valueStdScaled2.shape"
   ]
  },
  {
   "cell_type": "code",
   "execution_count": null,
   "id": "4f4fbd74-7605-47b6-8efe-e173868b72fb",
   "metadata": {
    "tags": []
   },
   "outputs": [],
   "source": [
    "X_test_valueStdScaled2[0]"
   ]
  },
  {
   "cell_type": "code",
   "execution_count": null,
   "id": "2aef15da-d114-4083-a503-9d9e45126875",
   "metadata": {},
   "outputs": [],
   "source": [
    "y_pred = generate_forecasts(X_test, results_VAR, T)"
   ]
  },
  {
   "cell_type": "code",
   "execution_count": null,
   "id": "68b0b393",
   "metadata": {
    "scrolled": true,
    "tags": []
   },
   "outputs": [],
   "source": [
    "y_pred_n_steps = generate_nsteps_forecasts(X_test_2.to_numpy(), results_VAR, T, predict_ahead)"
   ]
  },
  {
   "cell_type": "code",
   "execution_count": null,
   "id": "17c7212e",
   "metadata": {
    "tags": []
   },
   "outputs": [],
   "source": [
    "len(y_pred), len(y_pred_n_steps)"
   ]
  },
  {
   "cell_type": "code",
   "execution_count": null,
   "id": "a68b4cd0",
   "metadata": {
    "tags": []
   },
   "outputs": [],
   "source": [
    "X2 = np.array(y_pred_n_steps).reshape(-1,2)\n",
    "XX2 = pd.DataFrame(X2, columns=['valueStdScaled', 'TimeLatencyStdScaled'])"
   ]
  },
  {
   "cell_type": "code",
   "execution_count": null,
   "id": "cda2643f",
   "metadata": {
    "tags": []
   },
   "outputs": [],
   "source": [
    "XX2['valueStdScaled'][0], XX2['TimeLatencyStdScaled'][0]"
   ]
  },
  {
   "cell_type": "code",
   "execution_count": null,
   "id": "463d8225",
   "metadata": {
    "tags": []
   },
   "outputs": [],
   "source": [
    "def expand_dataframe_with_nsteps(expand_df, steps):\n",
    "    for i in range(steps):\n",
    "        new_row = []\n",
    "        new_row.insert(0,{'valueStdScaled': expand_df['valueStdScaled'][0], \n",
    "                          'TimeLatencyStdScaled': expand_df['TimeLatencyStdScaled'][0]})\n",
    "        nr = pd.DataFrame(new_row)\n",
    "        expand_df = pd.concat([nr, expand_df], ignore_index=True)  \n",
    "    \n",
    "    return expand_df"
   ]
  },
  {
   "cell_type": "code",
   "execution_count": null,
   "id": "5b808d6e",
   "metadata": {
    "tags": []
   },
   "outputs": [],
   "source": [
    "shape_dif = X_test.shape[0] - XX2.shape[0] "
   ]
  },
  {
   "cell_type": "code",
   "execution_count": null,
   "id": "d9e6cb70",
   "metadata": {
    "tags": []
   },
   "outputs": [],
   "source": [
    "shape_dif"
   ]
  },
  {
   "cell_type": "code",
   "execution_count": null,
   "id": "731ea611",
   "metadata": {
    "tags": []
   },
   "outputs": [],
   "source": [
    "XX2_new = None"
   ]
  },
  {
   "cell_type": "code",
   "execution_count": null,
   "id": "f2950de9",
   "metadata": {
    "tags": []
   },
   "outputs": [],
   "source": [
    "if shape_dif > 0:\n",
    "    XX2_new = expand_dataframe_with_nsteps(XX2, shape_dif)\n",
    "elif shape_dif < 0:\n",
    "    XX2_new = XX2[0:X_test.shape[0]]\n",
    "else:\n",
    "    XX2_new = XX2.copy()"
   ]
  },
  {
   "cell_type": "code",
   "execution_count": null,
   "id": "05befc45",
   "metadata": {
    "tags": []
   },
   "outputs": [],
   "source": [
    "XX2.shape, XX2_new.shape"
   ]
  },
  {
   "cell_type": "code",
   "execution_count": null,
   "id": "ce5f0687",
   "metadata": {
    "tags": []
   },
   "outputs": [],
   "source": [
    "X_test.shape"
   ]
  },
  {
   "cell_type": "code",
   "execution_count": null,
   "id": "7399a2dd",
   "metadata": {
    "tags": []
   },
   "outputs": [],
   "source": [
    "XX2_new.set_index(X_test.index, inplace=True)"
   ]
  },
  {
   "cell_type": "code",
   "execution_count": null,
   "id": "219cb437",
   "metadata": {
    "tags": []
   },
   "outputs": [],
   "source": [
    "forecasts_VAR = generate_forecasts(X_test, results_VAR, T)\n",
    "X = np.array(forecasts_VAR).reshape(-1,2)"
   ]
  },
  {
   "cell_type": "code",
   "execution_count": null,
   "id": "024367d6",
   "metadata": {
    "tags": []
   },
   "outputs": [],
   "source": [
    "XX = pd.DataFrame(X, columns=['valueStdScaled', 'TimeLatencyStdScaled'])"
   ]
  },
  {
   "cell_type": "code",
   "execution_count": null,
   "id": "6dc8a75f",
   "metadata": {
    "tags": []
   },
   "outputs": [],
   "source": [
    "XX.shape"
   ]
  },
  {
   "cell_type": "code",
   "execution_count": null,
   "id": "39db997d",
   "metadata": {
    "tags": []
   },
   "outputs": [],
   "source": [
    "XX_new = None"
   ]
  },
  {
   "cell_type": "code",
   "execution_count": null,
   "id": "17ab2b53",
   "metadata": {
    "tags": []
   },
   "outputs": [],
   "source": [
    "shape_dif = X_test.shape[0] - XX.shape[0] "
   ]
  },
  {
   "cell_type": "code",
   "execution_count": null,
   "id": "1c586337",
   "metadata": {
    "tags": []
   },
   "outputs": [],
   "source": [
    "if shape_dif > 0:\n",
    "    XX_new = expand_dataframe_with_nsteps(XX, shape_dif)\n",
    "elif shape_dif < 0:\n",
    "    XX_new = XX2[0:X_test.shape[0]]\n",
    "else:\n",
    "    XX_new = XX.copy()"
   ]
  },
  {
   "cell_type": "code",
   "execution_count": null,
   "id": "92bb4402",
   "metadata": {
    "tags": []
   },
   "outputs": [],
   "source": [
    "XX_new.shape, shape_dif"
   ]
  },
  {
   "cell_type": "code",
   "execution_count": null,
   "id": "0282c471",
   "metadata": {
    "tags": []
   },
   "outputs": [],
   "source": [
    "XX = XX_new.copy()"
   ]
  },
  {
   "cell_type": "code",
   "execution_count": null,
   "id": "23e34406",
   "metadata": {
    "tags": []
   },
   "outputs": [],
   "source": [
    "#for i in range(T):\n",
    "#    new_row = []\n",
    "#    new_row.insert(0,{'valueStdScaled': XX['valueStdScaled'][0], 'TimeLatencyStdScaled': XX['TimeLatencyStdScaled'][1]})\n",
    "#    nr = pd.DataFrame(new_row)\n",
    "#    XX = pd.concat([nr, XX], ignore_index=True)"
   ]
  },
  {
   "cell_type": "code",
   "execution_count": null,
   "id": "d39136d2",
   "metadata": {
    "tags": []
   },
   "outputs": [],
   "source": [
    "XX.set_index(X_test.index, inplace=True)"
   ]
  },
  {
   "cell_type": "code",
   "execution_count": null,
   "id": "c12dd1ff-34d8-4b4e-8de1-8c5659fb45d2",
   "metadata": {},
   "outputs": [],
   "source": [
    "X_test.head()"
   ]
  },
  {
   "cell_type": "code",
   "execution_count": null,
   "id": "b2a0377c-79b8-4d64-ba52-24c67cf28026",
   "metadata": {},
   "outputs": [],
   "source": [
    "X_test.shape"
   ]
  },
  {
   "cell_type": "code",
   "execution_count": null,
   "id": "ccc6713e",
   "metadata": {
    "tags": []
   },
   "outputs": [],
   "source": [
    "# These are the predictions one step at a time always looking at the ground truth\n",
    "X_test['valueStdScaledVarForecast'] = XX['valueStdScaled']\n",
    "X_test['TimeLatencyStdScaledVarForecast'] = XX['TimeLatencyStdScaled']"
   ]
  },
  {
   "cell_type": "code",
   "execution_count": null,
   "id": "323bd413",
   "metadata": {
    "tags": []
   },
   "outputs": [],
   "source": [
    "# These are the predictions predict_ahead steps at a time\n",
    "X_test['valueStdScaledVarForecast2'] = XX2_new['valueStdScaled']\n",
    "X_test['TimeLatencyStdScaledVarForecast2'] = XX2_new['TimeLatencyStdScaled']"
   ]
  },
  {
   "cell_type": "code",
   "execution_count": null,
   "id": "ed2145b0-34f9-4cd0-832b-52da5cba1e75",
   "metadata": {},
   "outputs": [],
   "source": [
    "X_test.head()"
   ]
  },
  {
   "cell_type": "code",
   "execution_count": null,
   "id": "7f8100ec-9549-4b11-98f7-e206df14dab1",
   "metadata": {},
   "outputs": [],
   "source": [
    "errors_ae = calculate_absolute_prediction_errors(X_test['valueStdScaled'].to_numpy(), X_test['valueStdScaledVarForecast'].to_numpy())\n",
    "anomalies_ae = calculate_3sigma_anomalies(errors_ae)\n",
    "errors_se = calculate_squared_prediction_errors(X_test['valueStdScaled'].to_numpy(), X_test['valueStdScaledVarForecast'].to_numpy())\n",
    "anomalies_se = calculate_3sigma_anomalies(errors_se)\n",
    "\n",
    "anomalies_3sigma_Y_test = calculate_3sigma_anomalies(X_test['valueStdScaled'].to_numpy())\n",
    "anomalies_3sigma_y_predict = calculate_3sigma_anomalies(X_test['valueStdScaledVarForecast'].to_numpy())\n",
    "\n",
    "anomalies_Y_test, z_scores_Y_test = calculate_zscore_anomalies(X_test['valueStdScaled'].to_numpy())\n",
    "anomalies_y_predict, z_scores_y_predict = calculate_zscore_anomalies(X_test['valueStdScaledVarForecast'].to_numpy())\n",
    "anomalies_errors_ae, z_scores_errors_ae = calculate_zscore_anomalies(errors_ae)\n",
    "anomalies_errors_se, z_scores_errors_se = calculate_zscore_anomalies(errors_se)\n",
    "\n",
    "anomalies_Y_test_mod, z_scores_Y_test_mod = calculate_modified_zscore_anomalies(X_test['valueStdScaled'].to_numpy())\n",
    "anomalies_y_predict_mod, z_scores_y_predict_mod = calculate_modified_zscore_anomalies(X_test['valueStdScaledVarForecast'].to_numpy())\n",
    "anomalies_errors_ae_mod, z_scores_errors_ae_mod = calculate_modified_zscore_anomalies(errors_ae)\n",
    "anomalies_errors_se_mod, z_scores_errors_se_mod = calculate_modified_zscore_anomalies(errors_se)\n"
   ]
  },
  {
   "cell_type": "code",
   "execution_count": null,
   "id": "e67077e5-5fd8-4d33-96f6-1e4cc23eb4a2",
   "metadata": {},
   "outputs": [],
   "source": [
    "%run 'utils_anomaly_detection.ipynb'"
   ]
  },
  {
   "cell_type": "code",
   "execution_count": null,
   "id": "d836b475-156b-4f34-9dba-4da89edecff2",
   "metadata": {},
   "outputs": [],
   "source": [
    "calculate_modified_zscore_anomalies(X_test['valueStdScaled'])[0]"
   ]
  },
  {
   "cell_type": "code",
   "execution_count": null,
   "id": "71e35547-297c-4ac1-a878-f8e3f7e552ea",
   "metadata": {},
   "outputs": [],
   "source": [
    "fig = plt.figure(figsize=(20,15))\n",
    "plt.title(\"Anomalies Y_test\")\n",
    "plt.plot(X_test['valueStdScaled'].to_numpy(),label=\"Original Data\", alpha=0.6, c='gray')\n",
    "plt.scatter(np.where(anomalies_Y_test==True)[0], X_test['valueStdScaled'].to_numpy()[np.where(anomalies_Y_test==1)], \n",
    "            alpha=0.8, color='green', s=250, label=\"Z-Score Anomalies\")\n",
    "plt.scatter(np.where(anomalies_3sigma_Y_test==True)[0], X_test['valueStdScaled'].to_numpy()[np.where(anomalies_3sigma_Y_test==1)], \n",
    "            alpha=0.8, color='red', s=150, label=\"3-Sigma Anomalies\")\n",
    "plt.scatter(np.where(anomalies_Y_test_mod==True)[0], X_test['valueStdScaled'].to_numpy()[np.where(anomalies_Y_test_mod==1)], \n",
    "            alpha=0.8, color='blue', s=100, label=\"Modified Z-Score Anomalies\")    \n",
    "plt.legend()\n",
    "figName = f\"Y_test_anomalies-T_{T}.png\"\n",
    "#mlflow.log_figure(fig, figName)\n",
    "plt.savefig(figName, transparent=False)\n",
    "#fig.clf()\n",
    "#plt.close()"
   ]
  },
  {
   "cell_type": "code",
   "execution_count": null,
   "id": "e1444461-979a-406c-b89f-2ab11fc9778e",
   "metadata": {},
   "outputs": [],
   "source": [
    "fig = plt.figure(figsize=(20,15))\n",
    "plt.title(\"Predict Anomalies T=\" + str(T) + \" with predict 1 on \"+ str(model_exp))\n",
    "plt.plot(X_test['valueStdScaledVarForecast'].to_numpy(),label=\"Predict 1-step Forecast\", alpha=0.6, c='red', linewidth=3)\n",
    "plt.plot(X_test['valueStdScaled'].to_numpy(),label=\"Original Data\", alpha=0.6, c='black')\n",
    "plt.scatter(np.where(anomalies_ae==True), X_test['valueStdScaledVarForecast'].to_numpy()[np.where(anomalies_ae==True)], \n",
    "            alpha=0.8, color='green', s=350, label=\"3-Sigma Anomalies AE\")\n",
    "plt.scatter(np.where(anomalies_se==True), X_test['valueStdScaledVarForecast'].to_numpy()[np.where(anomalies_se==True)], \n",
    "            alpha=0.8, color='magenta', s=300, label = \"3-Sigma Anomalies SE\")\n",
    "plt.scatter(np.where(anomalies_errors_ae==True), X_test['valueStdScaledVarForecast'].to_numpy()[np.where(anomalies_errors_ae==True)], \n",
    "            alpha=0.8, color='blue', s=250, label = \"Z-score Anomalies AE\")\n",
    "plt.scatter(np.where(anomalies_errors_se==True), X_test['valueStdScaledVarForecast'].to_numpy()[np.where(anomalies_errors_se==True)], \n",
    "            alpha=0.8, color='cyan', s=200, label = \"Z-score Anomalies SE\")\n",
    "plt.scatter(np.where(anomalies_errors_ae_mod==True), X_test['valueStdScaledVarForecast'].to_numpy()[np.where(anomalies_errors_ae_mod==True)], \n",
    "            alpha=0.8, color='lightgreen', s=150, label = \"Modified Z-score Anomalies AE\")\n",
    "plt.scatter(np.where(anomalies_errors_se_mod==True), X_test['valueStdScaledVarForecast'].to_numpy()[np.where(anomalies_errors_se_mod==True)], \n",
    "            alpha=0.8, color='orange', s=50, label = \"Modified Z-score Anomalies SE\")    \n",
    "plt.legend()    \n",
    "figName = f\"Y_predict-1-step-anomalies-T_{T}.png\"\n",
    "#mlflow.log_figure(fig, figName)\n",
    "plt.savefig(figName, transparent=False)\n"
   ]
  },
  {
   "cell_type": "code",
   "execution_count": null,
   "id": "515c8ebb-7182-4f78-8ada-810dae7130d1",
   "metadata": {},
   "outputs": [],
   "source": [
    "errors_ae2 = calculate_absolute_prediction_errors(X_test['valueStdScaled'].to_numpy(), X_test['valueStdScaledVarForecast2'].to_numpy())\n",
    "anomalies_ae2 = calculate_3sigma_anomalies(errors_ae2)        \n",
    "errors_se2 = calculate_squared_prediction_errors(X_test['valueStdScaled'].to_numpy(), X_test['valueStdScaledVarForecast2'].to_numpy())\n",
    "anomalies_se2 = calculate_3sigma_anomalies(errors_se2)\n",
    "anomalies_y_pred_nsteps_mod, z_scores_y_pred_nsteps_mod = calculate_modified_zscore_anomalies(X_test['valueStdScaledVarForecast2'].to_numpy())\n",
    "anomalies_errors_ae2_mod, z_scores_errors_ae2_mod = calculate_modified_zscore_anomalies(errors_ae2)\n",
    "anomalies_errors_se2_mod, z_scores_errors_se2_mod = calculate_modified_zscore_anomalies(errors_se2)\n",
    "\n",
    "anomalies_3sigma_y_pred_nsteps = calculate_3sigma_anomalies(X_test['valueStdScaledVarForecast2'].to_numpy())\n",
    "anomalies_y_pred_nsteps, z_scores_y_pred_nsteps = calculate_zscore_anomalies(X_test['valueStdScaledVarForecast2'].to_numpy())\n",
    "anomalies_errors_ae2, z_scores_errors_ae2 = calculate_zscore_anomalies(errors_ae2)\n",
    "anomalies_errors_se2, z_scores_errors_se2 = calculate_zscore_anomalies(errors_se2)\n"
   ]
  },
  {
   "cell_type": "code",
   "execution_count": null,
   "id": "55810858-f502-4fdb-8d8a-085a2d8961b2",
   "metadata": {},
   "outputs": [],
   "source": [
    "fig = plt.figure(figsize=(20,15))        \n",
    "plt.title(\"Predict Anomalies T=\" + str(T) + \" with predict \" + str(predict_ahead) + \" on \" + str(model_exp))\n",
    "plt.plot(X_test['valueStdScaledVarForecast2'].to_numpy(),label=\"Predict \" + str(predict_ahead) + \"-step Forecast\", alpha=0.6, c='red', linewidth=3)\n",
    "plt.plot(X_test['valueStdScaled'].to_numpy(),label=\"Original Data\", alpha=0.6, c='black')\n",
    "plt.scatter(np.where(anomalies_ae2==True), X_test['valueStdScaledVarForecast2'].to_numpy()[np.where(anomalies_ae2==True)], \n",
    "            alpha=0.8, color='green', s=350, label=\"Anomalies AE\")\n",
    "plt.scatter(np.where(anomalies_se2==True), X_test['valueStdScaledVarForecast2'].to_numpy()[np.where(anomalies_se2==True)], \n",
    "            alpha=0.8, color='magenta', s=300, label = \"Anomalies SE\")\n",
    "plt.scatter(np.where(anomalies_errors_ae2==True), X_test['valueStdScaledVarForecast2'].to_numpy()[np.where(anomalies_errors_ae2==True)], \n",
    "            alpha=0.8, color='blue', s=250, label = \"Z-score Anomalies AE\")\n",
    "plt.scatter(np.where(anomalies_errors_se2==True), X_test['valueStdScaledVarForecast2'].to_numpy()[np.where(anomalies_errors_se2==True)], \n",
    "            alpha=0.8, color='cyan', s=200, label = \"Z-score Anomalies SE\")\n",
    "plt.scatter(np.where(anomalies_errors_ae2_mod==True), X_test['valueStdScaledVarForecast2'].to_numpy()[np.where(anomalies_errors_ae2_mod==True)], \n",
    "            alpha=0.8, color='lime', s=150, label = \"Modified Z-score Anomalies AE\")\n",
    "plt.scatter(np.where(anomalies_errors_se2_mod==True), X_test['valueStdScaledVarForecast2'].to_numpy()[np.where(anomalies_errors_se2_mod==True)], \n",
    "            alpha=0.8, color='orange', s=50, label = \"Modified Z-score Anomalies SE\")        \n",
    "plt.legend();    \n",
    "figName = f\"Y-predict-anomalies-step-{predict_ahead}-with-T_{T}.png\"\n",
    "plt.savefig(figName, transparent=False)\n"
   ]
  },
  {
   "cell_type": "code",
   "execution_count": null,
   "id": "207f9fde-a37a-4c25-ba01-70cc7d9f4a0f",
   "metadata": {},
   "outputs": [],
   "source": [
    "plt.figure(figsize=(20,15))\n",
    "plt.title(\"Compare forecasts T=\" + str(T) + \" predict_ahead=\" + str(predict_ahead) + \" with predict 1\")\n",
    "plt.plot(X_test['TimeLatencyStdScaledVarForecast'],label=\"Counts Forecast\", alpha=0.6, c='blue', linewidth=3)\n",
    "plt.plot(X_test['TimeLatencyStdScaledVarForecast2'],label=\"Counts Forecast\", alpha=0.6, c='yellow', linewidth=3)\n",
    "plt.plot(X_test['TimeLatencyStdScaled'],label=\"Original Data\", alpha=1, c='gray')\n",
    "plt.legend()"
   ]
  },
  {
   "cell_type": "code",
   "execution_count": null,
   "id": "0d144ba0",
   "metadata": {
    "tags": []
   },
   "outputs": [],
   "source": [
    "plt.figure(figsize=(20,15))\n",
    "plt.title(\"Compare forecasts T=\" + str(T) + \" predict_ahead=\" + str(predict_ahead) + \" with predict 1\")\n",
    "plt.plot(X_test['valueStdScaledVarForecast'],label=\"Counts Forecast\", alpha=0.6, c='green', linewidth=3)\n",
    "plt.plot(X_test['valueStdScaledVarForecast2'],label=\"Counts Forecast n_steps\", alpha=0.6, c='orange', linewidth=3)\n",
    "plt.plot(X_test['valueStdScaled'],label=\"Original Data\", alpha=0.5, c='gray')\n",
    "\n",
    "plt.legend()\n",
    "plt.savefig('Compare_forecast_T_' + str(T) + \"_pred_ahead_\" + str(predict_ahead) + \"_with_predict_1\" + \".png\") "
   ]
  },
  {
   "cell_type": "code",
   "execution_count": null,
   "id": "6248ac22",
   "metadata": {
    "tags": []
   },
   "outputs": [],
   "source": [
    "aic = calculate_aic(len(X_test['TimeLatencyStdScaled']), \n",
    "                    mean_squared_error(X_test['TimeLatencyStdScaled'], X_test['TimeLatencyStdScaledVarForecast']),\n",
    "                    2\n",
    "                   )\n",
    "\n",
    "print(f\"Calculating scores for TimeLatencyStdScaled with forecast T={T}, predict_ahead=1\\n\"\n",
    "      f\" R2: {r2_score(X_test['TimeLatencyStdScaled'], X_test['TimeLatencyStdScaledVarForecast'])} \\n\"\n",
    "      f\"MAE: {mean_absolute_error(X_test['TimeLatencyStdScaled'], X_test['TimeLatencyStdScaledVarForecast'])}\\n\"\n",
    "      f\"MAPE: {mean_absolute_percentage_error(X_test['TimeLatencyStdScaled'], X_test['TimeLatencyStdScaledVarForecast'])}\\n\"\n",
    "      f\"MSE: {mean_squared_error(X_test['TimeLatencyStdScaled'], X_test['TimeLatencyStdScaledVarForecast'])}\\n\"\n",
    "      f\"Pearson correlation: {np.corrcoef(X_test['TimeLatencyStdScaled'], X_test['TimeLatencyStdScaledVarForecast'])[0,1]}\\n\"\n",
    "      f\"AIC: {aic}\\n\"      \n",
    "     )"
   ]
  },
  {
   "cell_type": "code",
   "execution_count": null,
   "id": "819dcb64-3f98-4b9c-8a76-48f55e7f9d0e",
   "metadata": {
    "tags": []
   },
   "outputs": [],
   "source": [
    "aic = calculate_aic(len(X_test['valueStdScaled']), \n",
    "                    mean_squared_error(X_test['valueStdScaled'], X_test['valueStdScaledVarForecast']),\n",
    "                    2\n",
    "                   )\n",
    "\n",
    "print(f\"Calculating scores for valueStdScaled with forecast T={T}, predict_ahead=1\\n\"\n",
    "      f\" R2: {r2_score(X_test['valueStdScaled'], X_test['valueStdScaledVarForecast'])} \\n\"\n",
    "      f\"MAE: {mean_absolute_error(X_test['valueStdScaled'], X_test['valueStdScaledVarForecast'])}\\n\"\n",
    "      f\"MAPE: {mean_absolute_percentage_error(X_test['valueStdScaled'], X_test['valueStdScaledVarForecast'])}\\n\"\n",
    "      f\"MSE: {mean_squared_error(X_test['valueStdScaled'], X_test['valueStdScaledVarForecast'])}\\n\"\n",
    "      f\"Pearson correlation: {np.corrcoef(X_test['valueStdScaled'], X_test['valueStdScaledVarForecast'])[0,1]}\\n\"\n",
    "      f\"AIC: {aic}\\n\"      \n",
    "     )"
   ]
  },
  {
   "cell_type": "code",
   "execution_count": null,
   "id": "70476749-29a3-4379-a80d-162a03ffc445",
   "metadata": {
    "tags": []
   },
   "outputs": [],
   "source": [
    "aic = calculate_aic(len(X_test['TimeLatencyStdScaled']), \n",
    "                    mean_squared_error(X_test['TimeLatencyStdScaled'], X_test['TimeLatencyStdScaledVarForecast2']),\n",
    "                    2\n",
    "                   )\n",
    "\n",
    "print(f\"Calculating scores for TimeLatencyStdScaled with forecast T={T}, predict_ahead={predict_ahead}\\n\"\n",
    "      f\" R2: {r2_score(X_test['TimeLatencyStdScaled'], X_test['TimeLatencyStdScaledVarForecast2'])} \\n\"\n",
    "      f\"MAE: {mean_absolute_error(X_test['TimeLatencyStdScaled'], X_test['TimeLatencyStdScaledVarForecast2'])}\\n\"\n",
    "      f\"MAPE: {mean_absolute_percentage_error(X_test['TimeLatencyStdScaled'], X_test['TimeLatencyStdScaledVarForecast2'])}\\n\"\n",
    "      f\"MSE: {mean_squared_error(X_test['TimeLatencyStdScaled'], X_test['TimeLatencyStdScaledVarForecast2'])}\\n\"\n",
    "      f\"Pearson correlation: {np.corrcoef(X_test['TimeLatencyStdScaled'], X_test['TimeLatencyStdScaledVarForecast2'])[0,1]}\\n\"\n",
    "      f\"AIC: {aic}\\n\"      \n",
    "     )"
   ]
  },
  {
   "cell_type": "code",
   "execution_count": null,
   "id": "d74b0829",
   "metadata": {
    "tags": []
   },
   "outputs": [],
   "source": [
    "aic = calculate_aic(len(X_test['valueStdScaled']), \n",
    "                    mean_squared_error(X_test['valueStdScaled'], X_test['valueStdScaledVarForecast2']),\n",
    "                    2\n",
    "                   )\n",
    "print(f\"Calculating scores for valueStdScaled with forecast T={T}, predict_ahead={predict_ahead}\\n\"\n",
    "      f\" R2: {r2_score(X_test['valueStdScaled'], X_test['valueStdScaledVarForecast2'])} \\n\"\n",
    "      f\"MAE: {mean_absolute_error(X_test['valueStdScaled'], X_test['valueStdScaledVarForecast2'])}\\n\"\n",
    "      f\"MAPE: {mean_absolute_percentage_error(X_test['valueStdScaled'], X_test['valueStdScaledVarForecast2'])}\\n\"\n",
    "      f\"MSE: {mean_squared_error(X_test['valueStdScaled'], X_test['valueStdScaledVarForecast2'])}\\n\"\n",
    "      f\"Pearson correlation: {np.corrcoef(X_test['valueStdScaled'], X_test['valueStdScaledVarForecast2'])[0,1]}\\n\"\n",
    "      f\"AIC: {aic}\\n\"\n",
    "     )"
   ]
  },
  {
   "cell_type": "code",
   "execution_count": null,
   "id": "7d2f2203",
   "metadata": {
    "tags": []
   },
   "outputs": [],
   "source": [
    "results_VAR.save('results_VAR.pkl')"
   ]
  },
  {
   "cell_type": "code",
   "execution_count": null,
   "id": "1d4a4f0e",
   "metadata": {
    "tags": []
   },
   "outputs": [],
   "source": [
    "plt.figure(figsize=(25,15))\n",
    "#plt.plot(X_test['valueStdScaledForecast'],label=\"Counts Forecast\", alpha=0.6, c='green', linewidth=3)\n",
    "plt.title(\"Anomalies T=\" + str(T) + \" with predict 1\")\n",
    "plt.plot(X_test['valueStdScaledVarForecast'],label=\"Counts Forecast\", alpha=0.6, c='green', linewidth=3)\n",
    "plt.plot(X_test['valueStdScaled'],label=\"Original Data Counts\", alpha=0.5, c='gray')\n",
    "\n",
    "#plt.scatter(X_test.index[X_test['anomalies_ae_Counts']==True], \n",
    "#            X_test['valueStdScaled'][X_test['anomalies_ae_Counts']==True], alpha=0.8, color='green', s=300)\n",
    "#plt.scatter(X_test.index[X_test['anomalies_se_Counts']==True], \n",
    "#            X_test['valueStdScaled'][X_test['anomalies_se_Counts']==True], alpha=0.8, color='magenta', s=100)\n",
    "\n",
    "#plt.plot(X_test['TimeLatencyStdScaledForecast'],label=\"Counts Forecast\", alpha=0.6, c='blue', linewidth=3)\n",
    "plt.plot(X_test['TimeLatencyStdScaledVarForecast'],label=\"Time Resp Forecast\", alpha=0.6, c='blue', linewidth=3)\n",
    "plt.plot(X_test['TimeLatencyStdScaled'],label=\"Original Data Time Resp\", alpha=1, c='gray')\n",
    "\n",
    "#plt.scatter(X_test.index[X_test['anomalies_ae_TimeResp']==True], \n",
    "#            X_test['TimeLatencyStdScaled'][X_test['anomalies_ae_TimeResp']==True], alpha=0.8, color='green', s=300)\n",
    "#plt.scatter(X_test.index[X_test['anomalies_se_TimeResp']==True], \n",
    "#            X_test['TimeLatencyStdScaled'][X_test['anomalies_se_TimeResp']==True], alpha=0.8, color='magenta', s=100)\n",
    "\n",
    "plt.legend()\n",
    "plt.savefig('Compare_T_' + str(T) + \"_with_predict_1_\" + \".png\") "
   ]
  },
  {
   "cell_type": "code",
   "execution_count": null,
   "id": "3998a668",
   "metadata": {
    "tags": []
   },
   "outputs": [],
   "source": [
    "plt.figure(figsize=(25,15))\n",
    "#plt.plot(X_test['valueStdScaledForecast'],label=\"Counts Forecast\", alpha=0.6, c='green', linewidth=3)\n",
    "plt.title(\"Anomalies T=\" + str(T) + \" predict_ahead=\" + str(predict_ahead))\n",
    "plt.plot(X_test['valueStdScaledVarForecast2'],label=\"Counts Forecast\", alpha=0.6, c='green', linewidth=3)\n",
    "plt.plot(X_test['valueStdScaled'],label=\"Original Data Counts\", alpha=0.5, c='gray')\n",
    "\n",
    "#plt.scatter(X_test.index[X_test['anomalies_ae_Counts2']==True], \n",
    "#            X_test['valueStdScaled'][X_test['anomalies_ae_Counts2']==True], alpha=0.8, color='green', s=300)\n",
    "#plt.scatter(X_test.index[X_test['anomalies_se_Counts2']==True], \n",
    "#            X_test['valueStdScaled'][X_test['anomalies_se_Counts2']==True], alpha=0.8, color='magenta', s=100)\n",
    "\n",
    "#plt.plot(X_test['TimeLatencyStdScaledForecast'],label=\"Counts Forecast\", alpha=0.6, c='blue', linewidth=3)\n",
    "plt.plot(X_test['TimeLatencyStdScaledVarForecast2'],label=\"Time Resp Forecast\", alpha=0.6, c='blue', linewidth=3)\n",
    "plt.plot(X_test['TimeLatencyStdScaled'],label=\"Original Data Time Resp\", alpha=1, c='gray')\n",
    "\n",
    "#plt.scatter(X_test.index[X_test['anomalies_ae_TimeResp2']==True], \n",
    "#            X_test['TimeLatencyStdScaled'][X_test['anomalies_ae_TimeResp2']==True], alpha=0.8, color='green', s=300)\n",
    "#plt.scatter(X_test.index[X_test['anomalies_se_TimeResp2']==True], \n",
    "#            X_test['TimeLatencyStdScaled'][X_test['anomalies_se_TimeResp2']==True], alpha=0.8, color='magenta', s=100)\n",
    "\n",
    "plt.legend()\n",
    "\n",
    "plt.savefig('Compare_T_' + str(T) + \"_pred_ahead_\" + str(predict_ahead) +\".png\") "
   ]
  },
  {
   "cell_type": "code",
   "execution_count": null,
   "id": "ef631c30",
   "metadata": {},
   "outputs": [],
   "source": []
  },
  {
   "cell_type": "code",
   "execution_count": null,
   "id": "f16d1f94",
   "metadata": {},
   "outputs": [],
   "source": []
  }
 ],
 "metadata": {
  "kernelspec": {
   "display_name": "TensorFlow-CPU",
   "language": "python",
   "name": "tf-cpu"
  },
  "language_info": {
   "codemirror_mode": {
    "name": "ipython",
    "version": 3
   },
   "file_extension": ".py",
   "mimetype": "text/x-python",
   "name": "python",
   "nbconvert_exporter": "python",
   "pygments_lexer": "ipython3",
   "version": "3.11.7"
  }
 },
 "nbformat": 4,
 "nbformat_minor": 5
}
